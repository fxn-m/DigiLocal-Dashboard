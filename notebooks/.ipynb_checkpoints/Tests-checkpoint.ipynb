{
 "cells": [
  {
   "cell_type": "code",
   "execution_count": 1,
   "id": "97c07e4f",
   "metadata": {},
   "outputs": [],
   "source": [
    "import os\n",
    "import json\n",
    "import pandas as pd\n",
    "import plotly.express as px"
   ]
  },
  {
   "cell_type": "code",
   "execution_count": 2,
   "id": "711709cf",
   "metadata": {},
   "outputs": [],
   "source": [
    "wdir = os.getcwd()\n",
    "splitted = wdir.split('\\\\')\n",
    "\n",
    "wdir = \"/\".join((splitted[0:-1]))\n",
    "data = wdir + '/datasets/devdata.csv'\n",
    "\n",
    "df = pd.read_csv(data)\n",
    "\n",
    "geojson = wdir + '/datasets/LSOA-2011-GeoJSON/dev_data.geojson'\n",
    "with open(geojson) as lsoa_file:\n",
    "    geojson = json.load(lsoa_file)"
   ]
  },
  {
   "cell_type": "code",
   "execution_count": 3,
   "id": "09694a9a",
   "metadata": {},
   "outputs": [],
   "source": [
    "cities_df = pd.read_csv(wdir + '/datasets/cities.csv')\n",
    "options = []\n",
    "for i, r in cities_df.iterrows():\n",
    "    city = r.city\n",
    "    options.append({'value':city, 'label':city})"
   ]
  },
  {
   "cell_type": "code",
   "execution_count": 4,
   "id": "bea4c0f1",
   "metadata": {},
   "outputs": [],
   "source": [
    "city = 'Bristol'"
   ]
  },
  {
   "cell_type": "code",
   "execution_count": 5,
   "id": "c18d4b29",
   "metadata": {},
   "outputs": [
    {
     "data": {
      "text/plain": [
       "811   -2.5833\n",
       "Name: lng, dtype: float64"
      ]
     },
     "execution_count": 5,
     "metadata": {},
     "output_type": "execute_result"
    }
   ],
   "source": [
    "cities_df[cities_df.city == city].lng"
   ]
  },
  {
   "cell_type": "code",
   "execution_count": 6,
   "id": "0ba3a88b",
   "metadata": {},
   "outputs": [],
   "source": [
    "import geocoder\n",
    "import geopy\n",
    "from geopy.geocoders import Nominatim\n",
    "import pgeocode"
   ]
  },
  {
   "cell_type": "code",
   "execution_count": 7,
   "id": "a2bef12d",
   "metadata": {},
   "outputs": [
    {
     "name": "stdout",
     "output_type": "stream",
     "text": [
      "postal_code                     BS9\n",
      "country_code                     GB\n",
      "place_name         Westbury on Trym\n",
      "state_name                  England\n",
      "state_code                      ENG\n",
      "county_name       County of Bristol\n",
      "county_code                11609016\n",
      "community_name                  NaN\n",
      "community_code                  NaN\n",
      "latitude                    51.4874\n",
      "longitude                   -2.6266\n",
      "accuracy                        1.0\n",
      "Name: 0, dtype: object\n",
      "51.4874\n",
      "-2.6266\n"
     ]
    }
   ],
   "source": [
    "#create shorthand for request from Nominatim \n",
    "nomi = pgeocode.Nominatim('GB')\n",
    "\n",
    "#insert postal code here\n",
    "post_code = 'BS9 1JQ'\n",
    "\n",
    "#return coordinates\n",
    "latitude = nomi.query_postal_code(post_code)['latitude']\n",
    "longitude = nomi.query_postal_code(post_code)['longitude']\n",
    "\n",
    "print(nomi.query_postal_code(post_code))\n",
    "print(latitude)\n",
    "print(longitude)"
   ]
  },
  {
   "cell_type": "code",
   "execution_count": 8,
   "id": "df807b92",
   "metadata": {},
   "outputs": [
    {
     "data": {
      "text/html": [
       "<div>\n",
       "<style scoped>\n",
       "    .dataframe tbody tr th:only-of-type {\n",
       "        vertical-align: middle;\n",
       "    }\n",
       "\n",
       "    .dataframe tbody tr th {\n",
       "        vertical-align: top;\n",
       "    }\n",
       "\n",
       "    .dataframe thead th {\n",
       "        text-align: right;\n",
       "    }\n",
       "</style>\n",
       "<table border=\"1\" class=\"dataframe\">\n",
       "  <thead>\n",
       "    <tr style=\"text-align: right;\">\n",
       "      <th></th>\n",
       "      <th>city</th>\n",
       "      <th>lat</th>\n",
       "      <th>lng</th>\n",
       "      <th>country</th>\n",
       "      <th>LSOA</th>\n",
       "    </tr>\n",
       "  </thead>\n",
       "  <tbody>\n",
       "    <tr>\n",
       "      <th>0</th>\n",
       "      <td>Dagenham</td>\n",
       "      <td>51.5397</td>\n",
       "      <td>0.1422</td>\n",
       "      <td>United Kingdom</td>\n",
       "      <td>E01000084</td>\n",
       "    </tr>\n",
       "    <tr>\n",
       "      <th>1</th>\n",
       "      <td>Barking</td>\n",
       "      <td>51.5400</td>\n",
       "      <td>0.0800</td>\n",
       "      <td>United Kingdom</td>\n",
       "      <td>E01000007</td>\n",
       "    </tr>\n",
       "    <tr>\n",
       "      <th>2</th>\n",
       "      <td>Edgware</td>\n",
       "      <td>51.6185</td>\n",
       "      <td>-0.2729</td>\n",
       "      <td>United Kingdom</td>\n",
       "      <td>E01000192</td>\n",
       "    </tr>\n",
       "    <tr>\n",
       "      <th>3</th>\n",
       "      <td>Finchley</td>\n",
       "      <td>51.5990</td>\n",
       "      <td>-0.1870</td>\n",
       "      <td>United Kingdom</td>\n",
       "      <td>E01000197</td>\n",
       "    </tr>\n",
       "    <tr>\n",
       "      <th>4</th>\n",
       "      <td>Hendon</td>\n",
       "      <td>51.5837</td>\n",
       "      <td>-0.2252</td>\n",
       "      <td>United Kingdom</td>\n",
       "      <td>E01000237</td>\n",
       "    </tr>\n",
       "    <tr>\n",
       "      <th>...</th>\n",
       "      <td>...</td>\n",
       "      <td>...</td>\n",
       "      <td>...</td>\n",
       "      <td>...</td>\n",
       "      <td>...</td>\n",
       "    </tr>\n",
       "    <tr>\n",
       "      <th>1513</th>\n",
       "      <td>Kempsey</td>\n",
       "      <td>52.1391</td>\n",
       "      <td>-2.2177</td>\n",
       "      <td>United Kingdom</td>\n",
       "      <td>E01032192</td>\n",
       "    </tr>\n",
       "    <tr>\n",
       "      <th>1514</th>\n",
       "      <td>Clent</td>\n",
       "      <td>52.4152</td>\n",
       "      <td>-2.1140</td>\n",
       "      <td>United Kingdom</td>\n",
       "      <td>E01032141</td>\n",
       "    </tr>\n",
       "    <tr>\n",
       "      <th>1515</th>\n",
       "      <td>Hartlebury</td>\n",
       "      <td>52.3300</td>\n",
       "      <td>-2.2300</td>\n",
       "      <td>United Kingdom</td>\n",
       "      <td>E01032387</td>\n",
       "    </tr>\n",
       "    <tr>\n",
       "      <th>1516</th>\n",
       "      <td>Bredon</td>\n",
       "      <td>52.0300</td>\n",
       "      <td>-2.1170</td>\n",
       "      <td>United Kingdom</td>\n",
       "      <td>E01032347</td>\n",
       "    </tr>\n",
       "    <tr>\n",
       "      <th>1517</th>\n",
       "      <td>Broadway</td>\n",
       "      <td>52.0400</td>\n",
       "      <td>-1.8600</td>\n",
       "      <td>United Kingdom</td>\n",
       "      <td>E01032351</td>\n",
       "    </tr>\n",
       "  </tbody>\n",
       "</table>\n",
       "<p>1518 rows × 5 columns</p>\n",
       "</div>"
      ],
      "text/plain": [
       "            city      lat     lng         country       LSOA\n",
       "0       Dagenham  51.5397  0.1422  United Kingdom  E01000084\n",
       "1        Barking  51.5400  0.0800  United Kingdom  E01000007\n",
       "2        Edgware  51.6185 -0.2729  United Kingdom  E01000192\n",
       "3       Finchley  51.5990 -0.1870  United Kingdom  E01000197\n",
       "4         Hendon  51.5837 -0.2252  United Kingdom  E01000237\n",
       "...          ...      ...     ...             ...        ...\n",
       "1513     Kempsey  52.1391 -2.2177  United Kingdom  E01032192\n",
       "1514       Clent  52.4152 -2.1140  United Kingdom  E01032141\n",
       "1515  Hartlebury  52.3300 -2.2300  United Kingdom  E01032387\n",
       "1516      Bredon  52.0300 -2.1170  United Kingdom  E01032347\n",
       "1517    Broadway  52.0400 -1.8600  United Kingdom  E01032351\n",
       "\n",
       "[1518 rows x 5 columns]"
      ]
     },
     "execution_count": 8,
     "metadata": {},
     "output_type": "execute_result"
    }
   ],
   "source": [
    "cities_df"
   ]
  },
  {
   "cell_type": "code",
   "execution_count": 9,
   "id": "1111d528",
   "metadata": {},
   "outputs": [],
   "source": [
    "geopy.geocoders.options.default_user_agent = \"my-application\""
   ]
  },
  {
   "cell_type": "code",
   "execution_count": 10,
   "id": "f6af10db",
   "metadata": {},
   "outputs": [
    {
     "ename": "ConfigurationError",
     "evalue": "Using Nominatim with default or sample `user_agent` \"my-application\" is strongly discouraged, as it violates Nominatim's ToS https://operations.osmfoundation.org/policies/nominatim/ and may possibly cause 403 and 429 HTTP errors. Please specify a custom `user_agent` with `Nominatim(user_agent=\"my-application\")` or by overriding the default `user_agent`: `geopy.geocoders.options.default_user_agent = \"my-application\"`.",
     "output_type": "error",
     "traceback": [
      "\u001b[1;31m---------------------------------------------------------------------------\u001b[0m",
      "\u001b[1;31mConfigurationError\u001b[0m                        Traceback (most recent call last)",
      "\u001b[1;32m<ipython-input-10-cd1e49a3dcc7>\u001b[0m in \u001b[0;36m<module>\u001b[1;34m\u001b[0m\n\u001b[0;32m      3\u001b[0m     \u001b[1;32mreturn\u001b[0m \u001b[0mlocation\u001b[0m\u001b[1;33m.\u001b[0m\u001b[0mraw\u001b[0m\u001b[1;33m[\u001b[0m\u001b[1;34m'address'\u001b[0m\u001b[1;33m]\u001b[0m\u001b[1;33m[\u001b[0m\u001b[1;34m'postcode'\u001b[0m\u001b[1;33m]\u001b[0m\u001b[1;33m\u001b[0m\u001b[1;33m\u001b[0m\u001b[0m\n\u001b[0;32m      4\u001b[0m \u001b[1;33m\u001b[0m\u001b[0m\n\u001b[1;32m----> 5\u001b[1;33m \u001b[0mgeolocator\u001b[0m \u001b[1;33m=\u001b[0m \u001b[0mgeopy\u001b[0m\u001b[1;33m.\u001b[0m\u001b[0mNominatim\u001b[0m\u001b[1;33m(\u001b[0m\u001b[0muser_agent\u001b[0m\u001b[1;33m=\u001b[0m\u001b[1;34m\"my-application\"\u001b[0m\u001b[1;33m)\u001b[0m\u001b[1;33m\u001b[0m\u001b[1;33m\u001b[0m\u001b[0m\n\u001b[0m\u001b[0;32m      6\u001b[0m \u001b[1;33m\u001b[0m\u001b[0m\n\u001b[0;32m      7\u001b[0m \u001b[0mpostcodes\u001b[0m \u001b[1;33m=\u001b[0m \u001b[0mdf\u001b[0m\u001b[1;33m.\u001b[0m\u001b[0mapply\u001b[0m\u001b[1;33m(\u001b[0m\u001b[0mget_postcode\u001b[0m\u001b[1;33m,\u001b[0m \u001b[0maxis\u001b[0m\u001b[1;33m=\u001b[0m\u001b[1;36m1\u001b[0m\u001b[1;33m,\u001b[0m \u001b[0mgeolocator\u001b[0m\u001b[1;33m=\u001b[0m\u001b[0mgeolocator\u001b[0m\u001b[1;33m,\u001b[0m \u001b[0mlat\u001b[0m\u001b[1;33m=\u001b[0m\u001b[1;34m'lat'\u001b[0m\u001b[1;33m,\u001b[0m \u001b[0mlon\u001b[0m\u001b[1;33m=\u001b[0m\u001b[1;34m'lng'\u001b[0m\u001b[1;33m)\u001b[0m\u001b[1;33m\u001b[0m\u001b[1;33m\u001b[0m\u001b[0m\n",
      "\u001b[1;32mC:\\ProgramData\\Anaconda3\\lib\\site-packages\\geopy\\geocoders\\nominatim.py\u001b[0m in \u001b[0;36m__init__\u001b[1;34m(self, timeout, proxies, domain, scheme, user_agent, ssl_context, adapter_factory)\u001b[0m\n\u001b[0;32m    103\u001b[0m         if (self.domain == _DEFAULT_NOMINATIM_DOMAIN\n\u001b[0;32m    104\u001b[0m                 and self.headers['User-Agent'] in _REJECTED_USER_AGENTS):\n\u001b[1;32m--> 105\u001b[1;33m             raise ConfigurationError(\n\u001b[0m\u001b[0;32m    106\u001b[0m                 \u001b[1;34m'Using Nominatim with default or sample `user_agent` \"%s\" is '\u001b[0m\u001b[1;33m\u001b[0m\u001b[1;33m\u001b[0m\u001b[0m\n\u001b[0;32m    107\u001b[0m                 \u001b[1;34m'strongly discouraged, as it violates Nominatim\\'s ToS '\u001b[0m\u001b[1;33m\u001b[0m\u001b[1;33m\u001b[0m\u001b[0m\n",
      "\u001b[1;31mConfigurationError\u001b[0m: Using Nominatim with default or sample `user_agent` \"my-application\" is strongly discouraged, as it violates Nominatim's ToS https://operations.osmfoundation.org/policies/nominatim/ and may possibly cause 403 and 429 HTTP errors. Please specify a custom `user_agent` with `Nominatim(user_agent=\"my-application\")` or by overriding the default `user_agent`: `geopy.geocoders.options.default_user_agent = \"my-application\"`."
     ]
    }
   ],
   "source": [
    "def get_postcode(df, geolocator, lat, lon):\n",
    "    location = geolocator.reverse((df['lat'], df['lng']))\n",
    "    return location.raw['address']['postcode']\n",
    "\n",
    "geolocator = geopy.Nominatim(user_agent=\"my-application\")\n",
    "\n",
    "postcodes = df.apply(get_postcode, axis=1, geolocator=geolocator, lat='lat', lon='lng')"
   ]
  },
  {
   "cell_type": "code",
   "execution_count": 11,
   "id": "1fb67948",
   "metadata": {},
   "outputs": [],
   "source": [
    "search = 'SW13 8PQ'"
   ]
  },
  {
   "cell_type": "code",
   "execution_count": 12,
   "id": "c01e688a",
   "metadata": {},
   "outputs": [
    {
     "data": {
      "text/plain": [
       "{'lat': 51.47, 'lon': -0.25}"
      ]
     },
     "execution_count": 12,
     "metadata": {},
     "output_type": "execute_result"
    }
   ],
   "source": [
    "if search == \"None\":\n",
    "    centre={\n",
    "        \"lat\": 52.36, \n",
    "        \"lon\": -1.17\n",
    "    }\n",
    "    zoom = 6\n",
    "elif search.isalpha():\n",
    "    centre={\n",
    "        \"lat\": round(cities_df[cities_df.city == search].lat.values[0],2),\n",
    "        \"lon\": round(cities_df[cities_df.city == search].lng.values[0],2)\n",
    "    } \n",
    "    zoom = 10\n",
    "else:\n",
    "    splitted = search.replace(\" \", \"\")\n",
    "    final = ''.join(splitted[0:-3] + ' ' + splitted[-3:])\n",
    "    centre={\n",
    "        \"lat\": round(nomi.query_postal_code(final)['latitude'],2),\n",
    "        \"lon\": round(nomi.query_postal_code(final)['longitude'],2)\n",
    "    }\n",
    "    zoom = 10\n",
    "    \n",
    "centre"
   ]
  },
  {
   "cell_type": "code",
   "execution_count": 13,
   "id": "1e50bf43",
   "metadata": {},
   "outputs": [
    {
     "ename": "IndentationError",
     "evalue": "unexpected indent (<ipython-input-13-2cf52e9c413b>, line 2)",
     "output_type": "error",
     "traceback": [
      "\u001b[1;36m  File \u001b[1;32m\"<ipython-input-13-2cf52e9c413b>\"\u001b[1;36m, line \u001b[1;32m2\u001b[0m\n\u001b[1;33m    if search == \"None\":\u001b[0m\n\u001b[1;37m    ^\u001b[0m\n\u001b[1;31mIndentationError\u001b[0m\u001b[1;31m:\u001b[0m unexpected indent\n"
     ]
    }
   ],
   "source": [
    "#start map at centre of England to begin with \n",
    "if search == \"None\":\n",
    "    centre={\n",
    "        \"lat\": 52.36, \n",
    "        \"lon\": -1.17\n",
    "    }\n",
    "    zoom = 6\n",
    "elif search.isalpha():\n",
    "    centre={\n",
    "        \"lat\": round(cities_df[cities_df.city == search].lat.values[0],2),\n",
    "        \"lon\": round(cities_df[cities_df.city == search].lng.values[0],2)\n",
    "    } \n",
    "    zoom = 10\n",
    "else:\n",
    "    splitted = search.replace(\" \", \"\")\n",
    "    final = ''.join(splitted[0:-3] + ' ' + splitted[-3:])\n",
    "    centre={\n",
    "        \"lat\": round(nomi.query_postal_code(final)['latitude'],2),\n",
    "        \"lon\": round(nomi.query_postal_code(final)['longitude'],2)\n",
    "    }\n",
    "    zoom = 10"
   ]
  }
 ],
 "metadata": {
  "kernelspec": {
   "display_name": "Python 3",
   "language": "python",
   "name": "python3"
  },
  "language_info": {
   "codemirror_mode": {
    "name": "ipython",
    "version": 3
   },
   "file_extension": ".py",
   "mimetype": "text/x-python",
   "name": "python",
   "nbconvert_exporter": "python",
   "pygments_lexer": "ipython3",
   "version": "3.8.8"
  }
 },
 "nbformat": 4,
 "nbformat_minor": 5
}
