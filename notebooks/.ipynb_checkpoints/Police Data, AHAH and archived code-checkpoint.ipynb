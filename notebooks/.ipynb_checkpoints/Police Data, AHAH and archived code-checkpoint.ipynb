{
 "cells": [
  {
   "cell_type": "markdown",
   "id": "bed460ec",
   "metadata": {},
   "source": [
    "---"
   ]
  },
  {
   "cell_type": "markdown",
   "id": "0e67be44",
   "metadata": {},
   "source": [
    "# Crime <a name=\"crime\"></a>"
   ]
  },
  {
   "cell_type": "markdown",
   "id": "79cca95c",
   "metadata": {},
   "source": [
    "These datasets (crime & AHAH) are no longer used in the choropleth visualisation, and so code cells have been converted to markdown"
   ]
  },
  {
   "cell_type": "code",
   "execution_count": 16,
   "id": "d203c7e9",
   "metadata": {},
   "outputs": [],
   "source": [
    "# all of my data for crime is stored across 44 datasets per month, with 12 months of 2020 equalling 528 datasets in total\n",
    "\n",
    "# for each dataset I will be extracting the number of crimes commited at each LSOA code\n",
    "# the most natural ways of doing this in my opinion would be to \n",
    "# a) load all tables, convert to dataframes, append all dataframes into one, drop all unwanted columns, \n",
    "# then sum by LSOA... or...\n",
    "# b) load all tables, convert to dataframes, for each column: i) drop unwanted columns , ii) sum by LSOA, iii) append all\n",
    "# remaining dataframes, iv) sum by LSOA\n",
    "\n",
    "# looks like a) is going to be the simplest, so lets go for it. Of course the most challenging step is to find a way to \n",
    "# automate the loading and conversion of "
   ]
  },
  {
   "cell_type": "markdown",
   "id": "ceb1432a",
   "metadata": {},
   "source": [
    "import os\n",
    "\n",
    "rootdir = wdir + '\\datasets\\Police_Data'\n",
    "\n",
    "li = []\n",
    "\n",
    "for subdir, dirs, files in os.walk(rootdir):\n",
    "    for file in files:\n",
    "        file = os.path.join(subdir, file)\n",
    "        df = pd.read_csv(file, index_col=None, header=0)\n",
    "        li.append(df)\n",
    "\n",
    "frame = pd.concat(li, axis=0, ignore_index=True)"
   ]
  },
  {
   "cell_type": "markdown",
   "id": "847a0f95",
   "metadata": {},
   "source": [
    "frame.columns"
   ]
  },
  {
   "cell_type": "markdown",
   "id": "c86ee0a3",
   "metadata": {},
   "source": [
    "frame.drop(columns = ['Crime ID', 'Month', 'Reported by', 'Falls within', 'Longitude',\n",
    "       'Latitude', 'Location', 'Last outcome category', 'LSOA name', 'Context'], inplace = True)\n",
    "frame"
   ]
  },
  {
   "cell_type": "markdown",
   "id": "8565500a",
   "metadata": {},
   "source": [
    "crime_by_LSOA = (frame.groupby('LSOA code').count())"
   ]
  },
  {
   "cell_type": "markdown",
   "id": "0fc345ca",
   "metadata": {},
   "source": [
    "crime_by_LSOA.rename(columns = {'Crime type' : 'Crime Count'}, inplace = True)\n",
    "\n",
    "crime_by_LSOA"
   ]
  },
  {
   "cell_type": "markdown",
   "id": "975bc569",
   "metadata": {},
   "source": [
    "#### Dealing with outliers"
   ]
  },
  {
   "cell_type": "markdown",
   "id": "88d878f8",
   "metadata": {},
   "source": [
    "boxplot = crime_by_LSOA.reset_index().plot(kind='box', x='LSOA code', y='Crime Count', figsize=(10, 6))"
   ]
  },
  {
   "cell_type": "markdown",
   "id": "1c360945",
   "metadata": {},
   "source": [
    "The above boxplot shows that the median number of crimes per LSOA is around 100, with the maximum at roughly 450. Extending beyond 450 crimes in a given LSOA is classified as an outlier, and represented on the plot as a black circle.\n",
    "\n",
    "How many outliers are there?"
   ]
  },
  {
   "cell_type": "markdown",
   "id": "8461c768",
   "metadata": {},
   "source": [
    "boxplot = mpl.pyplot.boxplot(crime_by_LSOA)\n",
    "#extracting L-estimators \n",
    "median = np.median(crime_by_LSOA)\n",
    "whiskers = [item.get_ydata()[1] for item in boxplot['whiskers']]\n",
    "minimum = whiskers[0]\n",
    "maximum = whiskers[1]\n",
    "\n",
    "print(median)\n",
    "print(minimum)\n",
    "print(maximum)"
   ]
  },
  {
   "cell_type": "markdown",
   "id": "6ed02ffe",
   "metadata": {},
   "source": [
    "#number of LSOA crime counts defined as outliers\n",
    "len(crime_by_LSOA[crime_by_LSOA['Crime Count'] > 433])"
   ]
  },
  {
   "cell_type": "markdown",
   "id": "a67516aa",
   "metadata": {},
   "source": [
    "In order to deal with the extremities of this dataset, the counts can be split into 10 equal sized groups."
   ]
  },
  {
   "cell_type": "markdown",
   "id": "aaff36a7",
   "metadata": {},
   "source": [
    "bin_labels = list(range(1, 11))\n",
    "crime_by_LSOA['Tier'] = pd.qcut(crime_by_LSOA['Crime Count'], q=10, precision=0, labels=bin_labels)\n",
    "crime_by_LSOA"
   ]
  },
  {
   "cell_type": "markdown",
   "id": "906bb0d3",
   "metadata": {},
   "source": [
    "We can see how it's broken down between the groups, and how many occupy each tier:"
   ]
  },
  {
   "cell_type": "markdown",
   "id": "f79eebc7",
   "metadata": {},
   "source": [
    "tiercount = pd.DataFrame(crime_by_LSOA['Tier'].value_counts()).reset_index()\n",
    "tiercount.rename(columns = {'index' : 'Tier', 'Tier' : 'count'}, inplace = True)"
   ]
  },
  {
   "cell_type": "markdown",
   "id": "cb0fb774",
   "metadata": {},
   "source": [
    "results, bin_edges = pd.qcut(crime_by_LSOA['Crime Count'],\n",
    "                             q=10, precision=0,\n",
    "                             labels=bin_labels, retbins=True)\n",
    "\n",
    "results = pd.DataFrame(zip(bin_edges, bin_labels),\n",
    "                            columns=['Threshold', 'Tier'])\n",
    "\n",
    "results_table = (results.merge(tiercount, how = 'outer', on = 'Tier')).set_index('Tier')\n",
    "\n",
    "display(results_table)"
   ]
  },
  {
   "cell_type": "markdown",
   "id": "8403ee46",
   "metadata": {},
   "source": [
    "# Community Health and Engagement <a name=\"CHaE\"></a>"
   ]
  },
  {
   "cell_type": "markdown",
   "id": "974b7e2c",
   "metadata": {},
   "source": [
    "ahahcsv = wdir + '\\datasets\\AccessToHealthyAssets&Hazards.csv'"
   ]
  },
  {
   "cell_type": "markdown",
   "id": "98f3fb60",
   "metadata": {},
   "source": [
    "AHAH = pd.read_csv(ahahcsv, index_col=None, header=0)"
   ]
  },
  {
   "cell_type": "markdown",
   "id": "412dac7b",
   "metadata": {},
   "source": [
    "AHAH.columns"
   ]
  },
  {
   "cell_type": "markdown",
   "id": "ab75b71f",
   "metadata": {},
   "source": [
    "AHAH.rename(columns = {'lsoa11' : 'LSOA code', 'd_ahah' : 'AHAH Decile'}, inplace = True)\n",
    "AHAH.set_index('LSOA code')"
   ]
  },
  {
   "cell_type": "markdown",
   "id": "865ddc7d",
   "metadata": {},
   "source": [
    "AHAHselected = AHAH.drop(columns = ['r_rank', 'h_rank', 'g_rank', 'e_rank', 'r_exp', 'h_exp',\n",
    "       'g_exp', 'e_exp', 'ahah', 'r_ahah', 'r_dec', 'h_dec', 'g_dec',\n",
    "       'e_dec'])"
   ]
  },
  {
   "cell_type": "markdown",
   "id": "d9ae4aab",
   "metadata": {},
   "source": [
    "display(AHAHselected)"
   ]
  },
  {
   "cell_type": "markdown",
   "id": "3f09f3a8",
   "metadata": {},
   "source": [
    "pseudo_community_strength = AHAH.merge(crime_by_LSOA, how = 'outer', on = 'LSOA code')"
   ]
  },
  {
   "cell_type": "markdown",
   "id": "8c0e9b3b",
   "metadata": {},
   "source": [
    "pseudo_community_strength_selected = AHAHselected.merge(crime_by_LSOA, how = 'outer', on = 'LSOA code')"
   ]
  },
  {
   "cell_type": "markdown",
   "id": "44e12900",
   "metadata": {},
   "source": [
    "pseudo_community_strength_selected"
   ]
  },
  {
   "cell_type": "markdown",
   "id": "a501b320",
   "metadata": {},
   "source": [
    "### Preparing data to be mapped\n"
   ]
  },
  {
   "cell_type": "markdown",
   "id": "79934faa",
   "metadata": {},
   "source": [
    "...continued on 'choropleth_mapping.ipynb'"
   ]
  },
  {
   "cell_type": "code",
   "execution_count": null,
   "id": "fd13c395",
   "metadata": {},
   "outputs": [],
   "source": [
    "#datamerged = pd.merge(data, shapes, left_index = True, right_index = True, how = 'inner')\n",
    "#datamerged.to_csv('selecteddata_shapes.csv')"
   ]
  },
  {
   "cell_type": "markdown",
   "id": "a3bc12fb",
   "metadata": {},
   "source": [
    "the below cell creates a single dataframe with all useful indices and the polygon shapefile corresponding to each present LSOA code"
   ]
  },
  {
   "cell_type": "code",
   "execution_count": null,
   "id": "13311999",
   "metadata": {},
   "outputs": [],
   "source": [
    "data = pd.DataFrame(selecteddata)\n",
    "data.set_index('LSOA code', inplace = True)\n",
    "data = data[~data.index.str.contains(\"W\", \"S\")]"
   ]
  },
  {
   "cell_type": "code",
   "execution_count": null,
   "id": "8c2f7fb9",
   "metadata": {},
   "outputs": [],
   "source": [
    "shapes = pd.DataFrame(json_codes, json_shapes, columns = ['LSOA']).reset_index()\n",
    "shapes.rename(columns = {'index' : 'shapefile'}, inplace = True)\n",
    "shapes.set_index('LSOA', inplace = True)"
   ]
  },
  {
   "cell_type": "code",
   "execution_count": null,
   "id": "abcd3ce7",
   "metadata": {},
   "outputs": [],
   "source": [
    "json_codes = []\n",
    "json_shapes =[]\n",
    "for i, item in enumerate(lsoa_json['features']):\n",
    "    json_codes.append(lsoa_json['features'][i]['properties']['LSOA11CD'])\n",
    "    json_shapes.append(lsoa_json['features'][i]['geometry'])"
   ]
  },
  {
   "cell_type": "code",
   "execution_count": null,
   "id": "59ff05a9",
   "metadata": {},
   "outputs": [],
   "source": [
    "with open(lsoa_boundaries) as lsoa_file:\n",
    "    lsoa_json = json.load(lsoa_file)"
   ]
  },
  {
   "cell_type": "code",
   "execution_count": null,
   "id": "3f672d0c",
   "metadata": {},
   "outputs": [],
   "source": [
    "data = wdir + '\\datasets\\selecteddata.csv'\n",
    "selecteddata = pd.read_csv(data)\n",
    "lsoa_boundaries = wdir + '\\datasets\\LSOA-2011-GeoJSON\\lsoa.geojson'"
   ]
  },
  {
   "cell_type": "code",
   "execution_count": null,
   "id": "a2a61fa1",
   "metadata": {},
   "outputs": [],
   "source": []
  }
 ],
 "metadata": {
  "kernelspec": {
   "display_name": "Python 3",
   "language": "python",
   "name": "python3"
  },
  "language_info": {
   "codemirror_mode": {
    "name": "ipython",
    "version": 3
   },
   "file_extension": ".py",
   "mimetype": "text/x-python",
   "name": "python",
   "nbconvert_exporter": "python",
   "pygments_lexer": "ipython3",
   "version": "3.8.6"
  }
 },
 "nbformat": 4,
 "nbformat_minor": 5
}
