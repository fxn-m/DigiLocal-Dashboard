{
 "cells": [
  {
   "cell_type": "code",
   "execution_count": 1,
   "id": "7cc70cfa",
   "metadata": {},
   "outputs": [],
   "source": [
    "import pandas as pd"
   ]
  },
  {
   "cell_type": "code",
   "execution_count": null,
   "id": "4afa4bbd",
   "metadata": {},
   "outputs": [],
   "source": [
    "df=pd.read_csv(r\"C:\\Users\\felix\\Downloads\\PCD_OA_LSOA_MSOA_LAD_FEB20_UK_LU\\PCD_OA_LSOA_MSOA_LAD_FEB20_UK_LU.csv\")\n",
    "display(df.head())\n",
    "#drop irrelevant postcode/random? columns\n",
    "df.drop(df.columns[0:6], axis=1, inplace=True)\n",
    "df.drop(['oa11cd','msoa11cd', 'lsoa11nm', 'msoa11nm', 'ladnmw'], axis=1, inplace=True)\n",
    "\n",
    "df"
   ]
  },
  {
   "cell_type": "code",
   "execution_count": null,
   "id": "8adedb78",
   "metadata": {},
   "outputs": [],
   "source": [
    "df.drop_duplicates(subset='lsoa11cd', inplace=True)"
   ]
  },
  {
   "cell_type": "code",
   "execution_count": null,
   "id": "a3f9a5c8",
   "metadata": {},
   "outputs": [],
   "source": [
    "df['lsoa11cd'].str.contains('E')"
   ]
  },
  {
   "cell_type": "code",
   "execution_count": null,
   "id": "b0e305c6",
   "metadata": {},
   "outputs": [],
   "source": [
    "df.dropna(inplace=True)"
   ]
  },
  {
   "cell_type": "code",
   "execution_count": null,
   "id": "d74c4366",
   "metadata": {},
   "outputs": [],
   "source": [
    "mask = df['lsoa11cd'].str.contains('E')\n",
    "df = df[mask]\n",
    "df"
   ]
  },
  {
   "cell_type": "code",
   "execution_count": null,
   "id": "da309c60",
   "metadata": {},
   "outputs": [],
   "source": [
    "df.rename(columns={'lsoa11cd':'LSOA', 'ladcd':'LA code', 'ladnm':'Local Authority'}, inplace=True)"
   ]
  },
  {
   "cell_type": "code",
   "execution_count": null,
   "id": "559271c2",
   "metadata": {},
   "outputs": [],
   "source": [
    "df"
   ]
  },
  {
   "cell_type": "code",
   "execution_count": null,
   "id": "e81d7051",
   "metadata": {},
   "outputs": [],
   "source": [
    "df.reset_index(inplace=True)\n",
    "df.drop('index', axis=1, inplace=True)"
   ]
  },
  {
   "cell_type": "code",
   "execution_count": null,
   "id": "ad01cb9a",
   "metadata": {},
   "outputs": [],
   "source": [
    "df.to_csv(r'C:\\Users\\felix\\OneDrive\\1. Projects\\2021\\1. digilocal_communitychoropleth\\DigiLocal-Dashboard\\datasets\\LSOA_to_LA.csv')"
   ]
  },
  {
   "cell_type": "code",
   "execution_count": null,
   "id": "49491a75",
   "metadata": {},
   "outputs": [],
   "source": []
  }
 ],
 "metadata": {
  "kernelspec": {
   "display_name": "Python 3",
   "language": "python",
   "name": "python3"
  },
  "language_info": {
   "codemirror_mode": {
    "name": "ipython",
    "version": 3
   },
   "file_extension": ".py",
   "mimetype": "text/x-python",
   "name": "python",
   "nbconvert_exporter": "python",
   "pygments_lexer": "ipython3",
   "version": "3.8.8"
  }
 },
 "nbformat": 4,
 "nbformat_minor": 5
}
