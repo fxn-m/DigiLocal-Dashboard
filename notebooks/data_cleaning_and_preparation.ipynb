{
 "cells": [
  {
   "cell_type": "markdown",
   "metadata": {},
   "source": [
    "</a><h1 align=center><font size = 5>DigiLocal Data Cleaning and Preparation</font></h1>\n",
    "\n",
    "</a><h1 align=center><font size = 3>Felix Newport-Mangell</font></h1>"
   ]
  },
  {
   "cell_type": "markdown",
   "metadata": {},
   "source": [
    "<h1 align=center><font size = 2>Note : Please download this notebook, open in Jupyter, and set to 'trust' under 'File' for full functionality</font>"
   ]
  },
  {
   "cell_type": "markdown",
   "metadata": {},
   "source": [
    "---"
   ]
  },
  {
   "cell_type": "markdown",
   "metadata": {},
   "source": [
    "## Table of contents\n",
    "* [Introduction](#intro)\n",
    "* [Indices of Multiple Deprivation](#IoMD)\n",
    "* [Crime](#crime)\n",
    "* [Community Health and Engagement](#CHaE)\n",
    "* [Internet User Classification](#IUC)\n",
    "* [Merging Datasets](#MD)\n",
    "* [Development Dataset](#DD)\n",
    "* [LSOA centroids](#LSOAs)\n",
    "* [Cities/Towns](#C/T)\n",
    "* [Postcodes](#PCs)"
   ]
  },
  {
   "cell_type": "markdown",
   "metadata": {},
   "source": [
    "---"
   ]
  },
  {
   "cell_type": "markdown",
   "metadata": {},
   "source": [
    "### Introduction <a name=\"intro\"></a>"
   ]
  },
  {
   "cell_type": "code",
   "execution_count": 1,
   "metadata": {},
   "outputs": [],
   "source": [
    "#import libraries to be used\n",
    "import pandas as pd\n",
    "import os \n",
    "import json\n",
    "\n",
    "%matplotlib inline\n",
    "import matplotlib as mpl\n",
    "import matplotlib.pyplot as plt\n",
    "\n",
    "mpl.style.use('ggplot') # optional: for ggplot-like style"
   ]
  },
  {
   "cell_type": "code",
   "execution_count": 2,
   "metadata": {},
   "outputs": [
    {
     "name": "stdout",
     "output_type": "stream",
     "text": [
      "C:\\Users\\felix_000\\OneDrive\\1. Projects\\2021\\1. digilocal_communitychoropleth\\DigiLocal-Dashboard\\notebooks\n",
      ".ipynb_checkpoints\n",
      "choropleth_mapping.ipynb\n",
      "data_analysis.ipynb\n",
      "data_cleaning_and_preparation.ipynb\n",
      "plotly_prototype.ipynb\n",
      "Police Data, AHAH and archived code.ipynb\n"
     ]
    }
   ],
   "source": [
    "#store working directory as a string 'wdir', then list the contents\n",
    "wdir = os.getcwd()\n",
    "print(wdir)\n",
    "\n",
    "with os.scandir(wdir) as entries:\n",
    "    for entry in entries:\n",
    "        print(entry.name)"
   ]
  },
  {
   "cell_type": "code",
   "execution_count": 3,
   "metadata": {},
   "outputs": [
    {
     "name": "stdout",
     "output_type": "stream",
     "text": [
      "C:/Users/felix_000/OneDrive/1. Projects/2021/1. digilocal_communitychoropleth/DigiLocal-Dashboard\n"
     ]
    }
   ],
   "source": [
    "#turn 'wdir' string into list\n",
    "splitted = wdir.split('\\\\')\n",
    "\n",
    "#join list up to the penultimate element to navigate 'wdir' up a directory level\n",
    "wdir = \"/\".join((splitted[0:-1]))\n",
    "\n",
    "print(wdir)"
   ]
  },
  {
   "cell_type": "markdown",
   "metadata": {},
   "source": [
    "---"
   ]
  },
  {
   "cell_type": "markdown",
   "metadata": {},
   "source": [
    "### Indices of Multiple Deprivation <a name=\"IoMD\"></a>"
   ]
  },
  {
   "cell_type": "code",
   "execution_count": 4,
   "metadata": {},
   "outputs": [
    {
     "name": "stdout",
     "output_type": "stream",
     "text": [
      "\n",
      " Rows, Columns: (32844, 10)\n"
     ]
    },
    {
     "data": {
      "text/html": [
       "<div>\n",
       "<style scoped>\n",
       "    .dataframe tbody tr th:only-of-type {\n",
       "        vertical-align: middle;\n",
       "    }\n",
       "\n",
       "    .dataframe tbody tr th {\n",
       "        vertical-align: top;\n",
       "    }\n",
       "\n",
       "    .dataframe thead th {\n",
       "        text-align: right;\n",
       "    }\n",
       "</style>\n",
       "<table border=\"1\" class=\"dataframe\">\n",
       "  <thead>\n",
       "    <tr style=\"text-align: right;\">\n",
       "      <th></th>\n",
       "      <th>LSOA code (2011)</th>\n",
       "      <th>LSOA name (2011)</th>\n",
       "      <th>Local Authority District code (2019)</th>\n",
       "      <th>Local Authority District name (2019)</th>\n",
       "      <th>Index of Multiple Deprivation (IMD) Rank (where 1 is most deprived)</th>\n",
       "      <th>Index of Multiple Deprivation (IMD) Decile (where 1 is most deprived 10% of LSOAs)</th>\n",
       "      <th>Income Deprivation Affecting Children Index (IDACI) Rank (where 1 is most deprived)</th>\n",
       "      <th>Income Deprivation Affecting Children Index (IDACI) Decile (where 1 is most deprived 10% of LSOAs)</th>\n",
       "      <th>Income Deprivation Affecting Older People (IDAOPI) Rank (where 1 is most deprived)</th>\n",
       "      <th>Income Deprivation Affecting Older People (IDAOPI) Decile (where 1 is most deprived 10% of LSOAs)</th>\n",
       "    </tr>\n",
       "  </thead>\n",
       "  <tbody>\n",
       "    <tr>\n",
       "      <th>0</th>\n",
       "      <td>E01000001</td>\n",
       "      <td>City of London 001A</td>\n",
       "      <td>E09000001</td>\n",
       "      <td>City of London</td>\n",
       "      <td>29,199</td>\n",
       "      <td>9</td>\n",
       "      <td>32,806</td>\n",
       "      <td>10</td>\n",
       "      <td>32,820</td>\n",
       "      <td>10</td>\n",
       "    </tr>\n",
       "    <tr>\n",
       "      <th>1</th>\n",
       "      <td>E01000002</td>\n",
       "      <td>City of London 001B</td>\n",
       "      <td>E09000001</td>\n",
       "      <td>City of London</td>\n",
       "      <td>30,379</td>\n",
       "      <td>10</td>\n",
       "      <td>29,682</td>\n",
       "      <td>10</td>\n",
       "      <td>31,938</td>\n",
       "      <td>10</td>\n",
       "    </tr>\n",
       "    <tr>\n",
       "      <th>2</th>\n",
       "      <td>E01000003</td>\n",
       "      <td>City of London 001C</td>\n",
       "      <td>E09000001</td>\n",
       "      <td>City of London</td>\n",
       "      <td>14,915</td>\n",
       "      <td>5</td>\n",
       "      <td>27,063</td>\n",
       "      <td>9</td>\n",
       "      <td>16,377</td>\n",
       "      <td>5</td>\n",
       "    </tr>\n",
       "    <tr>\n",
       "      <th>3</th>\n",
       "      <td>E01000005</td>\n",
       "      <td>City of London 001E</td>\n",
       "      <td>E09000001</td>\n",
       "      <td>City of London</td>\n",
       "      <td>8,678</td>\n",
       "      <td>3</td>\n",
       "      <td>9,458</td>\n",
       "      <td>3</td>\n",
       "      <td>3,885</td>\n",
       "      <td>2</td>\n",
       "    </tr>\n",
       "    <tr>\n",
       "      <th>4</th>\n",
       "      <td>E01000006</td>\n",
       "      <td>Barking and Dagenham 016A</td>\n",
       "      <td>E09000002</td>\n",
       "      <td>Barking and Dagenham</td>\n",
       "      <td>14,486</td>\n",
       "      <td>5</td>\n",
       "      <td>13,592</td>\n",
       "      <td>5</td>\n",
       "      <td>12,934</td>\n",
       "      <td>4</td>\n",
       "    </tr>\n",
       "  </tbody>\n",
       "</table>\n",
       "</div>"
      ],
      "text/plain": [
       "  LSOA code (2011)           LSOA name (2011)  \\\n",
       "0        E01000001        City of London 001A   \n",
       "1        E01000002        City of London 001B   \n",
       "2        E01000003        City of London 001C   \n",
       "3        E01000005        City of London 001E   \n",
       "4        E01000006  Barking and Dagenham 016A   \n",
       "\n",
       "  Local Authority District code (2019) Local Authority District name (2019)  \\\n",
       "0                            E09000001                       City of London   \n",
       "1                            E09000001                       City of London   \n",
       "2                            E09000001                       City of London   \n",
       "3                            E09000001                       City of London   \n",
       "4                            E09000002                 Barking and Dagenham   \n",
       "\n",
       "  Index of Multiple Deprivation (IMD) Rank (where 1 is most deprived)  \\\n",
       "0                                             29,199                    \n",
       "1                                             30,379                    \n",
       "2                                             14,915                    \n",
       "3                                              8,678                    \n",
       "4                                             14,486                    \n",
       "\n",
       "   Index of Multiple Deprivation (IMD) Decile (where 1 is most deprived 10% of LSOAs)  \\\n",
       "0                                                  9                                    \n",
       "1                                                 10                                    \n",
       "2                                                  5                                    \n",
       "3                                                  3                                    \n",
       "4                                                  5                                    \n",
       "\n",
       "  Income Deprivation Affecting Children Index (IDACI) Rank (where 1 is most deprived)  \\\n",
       "0                                             32,806                                    \n",
       "1                                             29,682                                    \n",
       "2                                             27,063                                    \n",
       "3                                              9,458                                    \n",
       "4                                             13,592                                    \n",
       "\n",
       "   Income Deprivation Affecting Children Index (IDACI) Decile (where 1 is most deprived 10% of LSOAs)  \\\n",
       "0                                                 10                                                    \n",
       "1                                                 10                                                    \n",
       "2                                                  9                                                    \n",
       "3                                                  3                                                    \n",
       "4                                                  5                                                    \n",
       "\n",
       "  Income Deprivation Affecting Older People (IDAOPI) Rank (where 1 is most deprived)  \\\n",
       "0                                             32,820                                   \n",
       "1                                             31,938                                   \n",
       "2                                             16,377                                   \n",
       "3                                              3,885                                   \n",
       "4                                             12,934                                   \n",
       "\n",
       "   Income Deprivation Affecting Older People (IDAOPI) Decile (where 1 is most deprived 10% of LSOAs)  \n",
       "0                                                 10                                                  \n",
       "1                                                 10                                                  \n",
       "2                                                  5                                                  \n",
       "3                                                  2                                                  \n",
       "4                                                  4                                                  "
      ]
     },
     "metadata": {},
     "output_type": "display_data"
    },
    {
     "name": "stdout",
     "output_type": "stream",
     "text": [
      "\n",
      "\n",
      " Column names: \n",
      " Index(['LSOA code (2011)', 'LSOA name (2011)',\n",
      "       'Local Authority District code (2019)',\n",
      "       'Local Authority District name (2019)',\n",
      "       'Index of Multiple Deprivation (IMD) Rank (where 1 is most deprived)',\n",
      "       'Index of Multiple Deprivation (IMD) Decile (where 1 is most deprived 10% of LSOAs)',\n",
      "       'Income Deprivation Affecting Children Index (IDACI) Rank (where 1 is most deprived)',\n",
      "       'Income Deprivation Affecting Children Index (IDACI) Decile (where 1 is most deprived 10% of LSOAs)',\n",
      "       'Income Deprivation Affecting Older People (IDAOPI) Rank (where 1 is most deprived)',\n",
      "       'Income Deprivation Affecting Older People (IDAOPI) Decile (where 1 is most deprived 10% of LSOAs)'],\n",
      "      dtype='object') \n",
      "\n"
     ]
    }
   ],
   "source": [
    "#import the data from csv\n",
    "iomd = wdir + '\\datasets\\IoMD2019.csv'\n",
    "IoMD2019 = pd.read_csv(iomd)\n",
    "\n",
    "#provide a high-level summary of the data\n",
    "print('\\n Rows, Columns:', IoMD2019.shape)\n",
    "display(IoMD2019.head())\n",
    "print(2*'\\n', 'Column names: \\n', IoMD2019.columns, '\\n')"
   ]
  },
  {
   "cell_type": "code",
   "execution_count": 5,
   "metadata": {},
   "outputs": [
    {
     "data": {
      "text/html": [
       "<div>\n",
       "<style scoped>\n",
       "    .dataframe tbody tr th:only-of-type {\n",
       "        vertical-align: middle;\n",
       "    }\n",
       "\n",
       "    .dataframe tbody tr th {\n",
       "        vertical-align: top;\n",
       "    }\n",
       "\n",
       "    .dataframe thead th {\n",
       "        text-align: right;\n",
       "    }\n",
       "</style>\n",
       "<table border=\"1\" class=\"dataframe\">\n",
       "  <thead>\n",
       "    <tr style=\"text-align: right;\">\n",
       "      <th></th>\n",
       "      <th>LSOA code</th>\n",
       "      <th>Local Authority District name</th>\n",
       "      <th>IDACI Decile</th>\n",
       "    </tr>\n",
       "  </thead>\n",
       "  <tbody>\n",
       "    <tr>\n",
       "      <th>0</th>\n",
       "      <td>E01000001</td>\n",
       "      <td>City of London</td>\n",
       "      <td>10</td>\n",
       "    </tr>\n",
       "    <tr>\n",
       "      <th>1</th>\n",
       "      <td>E01000002</td>\n",
       "      <td>City of London</td>\n",
       "      <td>10</td>\n",
       "    </tr>\n",
       "    <tr>\n",
       "      <th>2</th>\n",
       "      <td>E01000003</td>\n",
       "      <td>City of London</td>\n",
       "      <td>9</td>\n",
       "    </tr>\n",
       "    <tr>\n",
       "      <th>3</th>\n",
       "      <td>E01000005</td>\n",
       "      <td>City of London</td>\n",
       "      <td>3</td>\n",
       "    </tr>\n",
       "    <tr>\n",
       "      <th>4</th>\n",
       "      <td>E01000006</td>\n",
       "      <td>Barking and Dagenham</td>\n",
       "      <td>5</td>\n",
       "    </tr>\n",
       "    <tr>\n",
       "      <th>...</th>\n",
       "      <td>...</td>\n",
       "      <td>...</td>\n",
       "      <td>...</td>\n",
       "    </tr>\n",
       "    <tr>\n",
       "      <th>32839</th>\n",
       "      <td>E01033764</td>\n",
       "      <td>Liverpool</td>\n",
       "      <td>1</td>\n",
       "    </tr>\n",
       "    <tr>\n",
       "      <th>32840</th>\n",
       "      <td>E01033765</td>\n",
       "      <td>Liverpool</td>\n",
       "      <td>1</td>\n",
       "    </tr>\n",
       "    <tr>\n",
       "      <th>32841</th>\n",
       "      <td>E01033766</td>\n",
       "      <td>Liverpool</td>\n",
       "      <td>7</td>\n",
       "    </tr>\n",
       "    <tr>\n",
       "      <th>32842</th>\n",
       "      <td>E01033767</td>\n",
       "      <td>Liverpool</td>\n",
       "      <td>1</td>\n",
       "    </tr>\n",
       "    <tr>\n",
       "      <th>32843</th>\n",
       "      <td>E01033768</td>\n",
       "      <td>Liverpool</td>\n",
       "      <td>1</td>\n",
       "    </tr>\n",
       "  </tbody>\n",
       "</table>\n",
       "<p>32844 rows × 3 columns</p>\n",
       "</div>"
      ],
      "text/plain": [
       "       LSOA code Local Authority District name  IDACI Decile\n",
       "0      E01000001                City of London            10\n",
       "1      E01000002                City of London            10\n",
       "2      E01000003                City of London             9\n",
       "3      E01000005                City of London             3\n",
       "4      E01000006          Barking and Dagenham             5\n",
       "...          ...                           ...           ...\n",
       "32839  E01033764                     Liverpool             1\n",
       "32840  E01033765                     Liverpool             1\n",
       "32841  E01033766                     Liverpool             7\n",
       "32842  E01033767                     Liverpool             1\n",
       "32843  E01033768                     Liverpool             1\n",
       "\n",
       "[32844 rows x 3 columns]"
      ]
     },
     "execution_count": 5,
     "metadata": {},
     "output_type": "execute_result"
    }
   ],
   "source": [
    "#slice out useful data\n",
    "idaci = IoMD2019.loc[: , ['LSOA code (2011)', 'Local Authority District name (2019)',\n",
    "                          'Income Deprivation Affecting Children Index (IDACI) Decile (where 1 is most deprived 10% of LSOAs)']]\n",
    "\n",
    "#practical headers\n",
    "idaci.rename(columns = {'LSOA code (2011)' : 'LSOA code',\n",
    "                        'Local Authority District name (2019)' : 'Local Authority District name',\n",
    "                        'Income Deprivation Affecting Children Index (IDACI) Decile (where 1 is most deprived 10% of LSOAs)' : 'IDACI Decile'}, inplace = True)\n",
    "idaci"
   ]
  },
  {
   "cell_type": "markdown",
   "metadata": {},
   "source": [
    "---"
   ]
  },
  {
   "cell_type": "markdown",
   "metadata": {},
   "source": [
    "### Internet User Classification <a name=\"IUC\"></a>"
   ]
  },
  {
   "cell_type": "code",
   "execution_count": 6,
   "metadata": {},
   "outputs": [
    {
     "name": "stdout",
     "output_type": "stream",
     "text": [
      "\n",
      " Rows, Columns: (41729, 5)\n"
     ]
    },
    {
     "data": {
      "text/html": [
       "<div>\n",
       "<style scoped>\n",
       "    .dataframe tbody tr th:only-of-type {\n",
       "        vertical-align: middle;\n",
       "    }\n",
       "\n",
       "    .dataframe tbody tr th {\n",
       "        vertical-align: top;\n",
       "    }\n",
       "\n",
       "    .dataframe thead th {\n",
       "        text-align: right;\n",
       "    }\n",
       "</style>\n",
       "<table border=\"1\" class=\"dataframe\">\n",
       "  <thead>\n",
       "    <tr style=\"text-align: right;\">\n",
       "      <th></th>\n",
       "      <th>SHP_ID</th>\n",
       "      <th>LSOA11_CD</th>\n",
       "      <th>LSOA11_NM</th>\n",
       "      <th>GRP_CD</th>\n",
       "      <th>GRP_LABEL</th>\n",
       "    </tr>\n",
       "  </thead>\n",
       "  <tbody>\n",
       "    <tr>\n",
       "      <th>0</th>\n",
       "      <td>1</td>\n",
       "      <td>E01020179</td>\n",
       "      <td>South Hams 012C</td>\n",
       "      <td>5</td>\n",
       "      <td>e-Rational Utilitarians</td>\n",
       "    </tr>\n",
       "    <tr>\n",
       "      <th>1</th>\n",
       "      <td>2</td>\n",
       "      <td>E01033289</td>\n",
       "      <td>Cornwall 007E</td>\n",
       "      <td>9</td>\n",
       "      <td>Settled Offline Communities</td>\n",
       "    </tr>\n",
       "    <tr>\n",
       "      <th>2</th>\n",
       "      <td>3</td>\n",
       "      <td>W01000189</td>\n",
       "      <td>Conwy 015F</td>\n",
       "      <td>5</td>\n",
       "      <td>e-Rational Utilitarians</td>\n",
       "    </tr>\n",
       "    <tr>\n",
       "      <th>3</th>\n",
       "      <td>4</td>\n",
       "      <td>W01001022</td>\n",
       "      <td>Bridgend 014B</td>\n",
       "      <td>7</td>\n",
       "      <td>Passive and Uncommitted Users</td>\n",
       "    </tr>\n",
       "    <tr>\n",
       "      <th>4</th>\n",
       "      <td>5</td>\n",
       "      <td>W01000532</td>\n",
       "      <td>Ceredigion 007B</td>\n",
       "      <td>9</td>\n",
       "      <td>Settled Offline Communities</td>\n",
       "    </tr>\n",
       "  </tbody>\n",
       "</table>\n",
       "</div>"
      ],
      "text/plain": [
       "   SHP_ID  LSOA11_CD        LSOA11_NM  GRP_CD                      GRP_LABEL\n",
       "0       1  E01020179  South Hams 012C       5        e-Rational Utilitarians\n",
       "1       2  E01033289    Cornwall 007E       9    Settled Offline Communities\n",
       "2       3  W01000189       Conwy 015F       5        e-Rational Utilitarians\n",
       "3       4  W01001022    Bridgend 014B       7  Passive and Uncommitted Users\n",
       "4       5  W01000532  Ceredigion 007B       9    Settled Offline Communities"
      ]
     },
     "metadata": {},
     "output_type": "display_data"
    },
    {
     "name": "stdout",
     "output_type": "stream",
     "text": [
      "\n",
      "\n",
      " Column names: \n",
      " Index(['SHP_ID', 'LSOA11_CD', 'LSOA11_NM', 'GRP_CD', 'GRP_LABEL'], dtype='object') \n",
      "\n"
     ]
    }
   ],
   "source": [
    "#import the data from csv\n",
    "iuc = wdir + '\\datasets\\InternetUserClassification2018.csv'\n",
    "IUC = pd.read_csv(iuc)\n",
    "\n",
    "#provide a high-level summary of the data\n",
    "print('\\n Rows, Columns:', IUC.shape)\n",
    "display(IUC.head())\n",
    "print(2*'\\n', 'Column names: \\n', IUC.columns, '\\n')"
   ]
  },
  {
   "cell_type": "code",
   "execution_count": 7,
   "metadata": {},
   "outputs": [
    {
     "data": {
      "text/html": [
       "<div>\n",
       "<style scoped>\n",
       "    .dataframe tbody tr th:only-of-type {\n",
       "        vertical-align: middle;\n",
       "    }\n",
       "\n",
       "    .dataframe tbody tr th {\n",
       "        vertical-align: top;\n",
       "    }\n",
       "\n",
       "    .dataframe thead th {\n",
       "        text-align: right;\n",
       "    }\n",
       "</style>\n",
       "<table border=\"1\" class=\"dataframe\">\n",
       "  <thead>\n",
       "    <tr style=\"text-align: right;\">\n",
       "      <th></th>\n",
       "      <th>GRP_CD</th>\n",
       "      <th>GRP_LABEL</th>\n",
       "    </tr>\n",
       "    <tr>\n",
       "      <th>LSOA code</th>\n",
       "      <th></th>\n",
       "      <th></th>\n",
       "    </tr>\n",
       "  </thead>\n",
       "  <tbody>\n",
       "    <tr>\n",
       "      <th>E01020179</th>\n",
       "      <td>5</td>\n",
       "      <td>e-Rational Utilitarians</td>\n",
       "    </tr>\n",
       "    <tr>\n",
       "      <th>E01033289</th>\n",
       "      <td>9</td>\n",
       "      <td>Settled Offline Communities</td>\n",
       "    </tr>\n",
       "    <tr>\n",
       "      <th>W01000189</th>\n",
       "      <td>5</td>\n",
       "      <td>e-Rational Utilitarians</td>\n",
       "    </tr>\n",
       "    <tr>\n",
       "      <th>W01001022</th>\n",
       "      <td>7</td>\n",
       "      <td>Passive and Uncommitted Users</td>\n",
       "    </tr>\n",
       "    <tr>\n",
       "      <th>W01000532</th>\n",
       "      <td>9</td>\n",
       "      <td>Settled Offline Communities</td>\n",
       "    </tr>\n",
       "    <tr>\n",
       "      <th>...</th>\n",
       "      <td>...</td>\n",
       "      <td>...</td>\n",
       "    </tr>\n",
       "    <tr>\n",
       "      <th>S01011810</th>\n",
       "      <td>8</td>\n",
       "      <td>Digital Seniors</td>\n",
       "    </tr>\n",
       "    <tr>\n",
       "      <th>S01011811</th>\n",
       "      <td>5</td>\n",
       "      <td>e-Rational Utilitarians</td>\n",
       "    </tr>\n",
       "    <tr>\n",
       "      <th>S01011967</th>\n",
       "      <td>5</td>\n",
       "      <td>e-Rational Utilitarians</td>\n",
       "    </tr>\n",
       "    <tr>\n",
       "      <th>S01011973</th>\n",
       "      <td>5</td>\n",
       "      <td>e-Rational Utilitarians</td>\n",
       "    </tr>\n",
       "    <tr>\n",
       "      <th>S01012261</th>\n",
       "      <td>3</td>\n",
       "      <td>e-Veterans</td>\n",
       "    </tr>\n",
       "  </tbody>\n",
       "</table>\n",
       "<p>41729 rows × 2 columns</p>\n",
       "</div>"
      ],
      "text/plain": [
       "           GRP_CD                      GRP_LABEL\n",
       "LSOA code                                       \n",
       "E01020179       5        e-Rational Utilitarians\n",
       "E01033289       9    Settled Offline Communities\n",
       "W01000189       5        e-Rational Utilitarians\n",
       "W01001022       7  Passive and Uncommitted Users\n",
       "W01000532       9    Settled Offline Communities\n",
       "...           ...                            ...\n",
       "S01011810       8                Digital Seniors\n",
       "S01011811       5        e-Rational Utilitarians\n",
       "S01011967       5        e-Rational Utilitarians\n",
       "S01011973       5        e-Rational Utilitarians\n",
       "S01012261       3                     e-Veterans\n",
       "\n",
       "[41729 rows x 2 columns]"
      ]
     },
     "execution_count": 7,
     "metadata": {},
     "output_type": "execute_result"
    }
   ],
   "source": [
    "IUC = IUC.loc[: , ['LSOA11_CD', 'GRP_CD', 'GRP_LABEL']]\n",
    "IUC.rename(columns = {'LSOA11_CD':'LSOA code'}, inplace = True)\n",
    "IUC.set_index('LSOA code')"
   ]
  },
  {
   "cell_type": "markdown",
   "metadata": {},
   "source": [
    "---"
   ]
  },
  {
   "cell_type": "markdown",
   "metadata": {},
   "source": [
    "### Merging Datasets <a name=\"MD\"></a>"
   ]
  },
  {
   "cell_type": "code",
   "execution_count": 8,
   "metadata": {},
   "outputs": [
    {
     "data": {
      "text/html": [
       "<div>\n",
       "<style scoped>\n",
       "    .dataframe tbody tr th:only-of-type {\n",
       "        vertical-align: middle;\n",
       "    }\n",
       "\n",
       "    .dataframe tbody tr th {\n",
       "        vertical-align: top;\n",
       "    }\n",
       "\n",
       "    .dataframe thead th {\n",
       "        text-align: right;\n",
       "    }\n",
       "</style>\n",
       "<table border=\"1\" class=\"dataframe\">\n",
       "  <thead>\n",
       "    <tr style=\"text-align: right;\">\n",
       "      <th></th>\n",
       "      <th>LSOA code</th>\n",
       "      <th>Local Authority District name</th>\n",
       "      <th>IDACI Decile</th>\n",
       "      <th>GRP_CD</th>\n",
       "      <th>GRP_LABEL</th>\n",
       "    </tr>\n",
       "  </thead>\n",
       "  <tbody>\n",
       "    <tr>\n",
       "      <th>0</th>\n",
       "      <td>E01000001</td>\n",
       "      <td>City of London</td>\n",
       "      <td>10.0</td>\n",
       "      <td>3</td>\n",
       "      <td>e-Veterans</td>\n",
       "    </tr>\n",
       "    <tr>\n",
       "      <th>1</th>\n",
       "      <td>E01000002</td>\n",
       "      <td>City of London</td>\n",
       "      <td>10.0</td>\n",
       "      <td>2</td>\n",
       "      <td>e-Professionals</td>\n",
       "    </tr>\n",
       "    <tr>\n",
       "      <th>2</th>\n",
       "      <td>E01000003</td>\n",
       "      <td>City of London</td>\n",
       "      <td>9.0</td>\n",
       "      <td>4</td>\n",
       "      <td>Youthful Urban Fringe</td>\n",
       "    </tr>\n",
       "    <tr>\n",
       "      <th>3</th>\n",
       "      <td>E01000005</td>\n",
       "      <td>City of London</td>\n",
       "      <td>3.0</td>\n",
       "      <td>8</td>\n",
       "      <td>Digital Seniors</td>\n",
       "    </tr>\n",
       "    <tr>\n",
       "      <th>4</th>\n",
       "      <td>E01000006</td>\n",
       "      <td>Barking and Dagenham</td>\n",
       "      <td>5.0</td>\n",
       "      <td>4</td>\n",
       "      <td>Youthful Urban Fringe</td>\n",
       "    </tr>\n",
       "    <tr>\n",
       "      <th>...</th>\n",
       "      <td>...</td>\n",
       "      <td>...</td>\n",
       "      <td>...</td>\n",
       "      <td>...</td>\n",
       "      <td>...</td>\n",
       "    </tr>\n",
       "    <tr>\n",
       "      <th>41724</th>\n",
       "      <td>S01011810</td>\n",
       "      <td>NaN</td>\n",
       "      <td>NaN</td>\n",
       "      <td>8</td>\n",
       "      <td>Digital Seniors</td>\n",
       "    </tr>\n",
       "    <tr>\n",
       "      <th>41725</th>\n",
       "      <td>S01011811</td>\n",
       "      <td>NaN</td>\n",
       "      <td>NaN</td>\n",
       "      <td>5</td>\n",
       "      <td>e-Rational Utilitarians</td>\n",
       "    </tr>\n",
       "    <tr>\n",
       "      <th>41726</th>\n",
       "      <td>S01011967</td>\n",
       "      <td>NaN</td>\n",
       "      <td>NaN</td>\n",
       "      <td>5</td>\n",
       "      <td>e-Rational Utilitarians</td>\n",
       "    </tr>\n",
       "    <tr>\n",
       "      <th>41727</th>\n",
       "      <td>S01011973</td>\n",
       "      <td>NaN</td>\n",
       "      <td>NaN</td>\n",
       "      <td>5</td>\n",
       "      <td>e-Rational Utilitarians</td>\n",
       "    </tr>\n",
       "    <tr>\n",
       "      <th>41728</th>\n",
       "      <td>S01012261</td>\n",
       "      <td>NaN</td>\n",
       "      <td>NaN</td>\n",
       "      <td>3</td>\n",
       "      <td>e-Veterans</td>\n",
       "    </tr>\n",
       "  </tbody>\n",
       "</table>\n",
       "<p>41729 rows × 5 columns</p>\n",
       "</div>"
      ],
      "text/plain": [
       "       LSOA code Local Authority District name  IDACI Decile  GRP_CD  \\\n",
       "0      E01000001                City of London          10.0       3   \n",
       "1      E01000002                City of London          10.0       2   \n",
       "2      E01000003                City of London           9.0       4   \n",
       "3      E01000005                City of London           3.0       8   \n",
       "4      E01000006          Barking and Dagenham           5.0       4   \n",
       "...          ...                           ...           ...     ...   \n",
       "41724  S01011810                           NaN           NaN       8   \n",
       "41725  S01011811                           NaN           NaN       5   \n",
       "41726  S01011967                           NaN           NaN       5   \n",
       "41727  S01011973                           NaN           NaN       5   \n",
       "41728  S01012261                           NaN           NaN       3   \n",
       "\n",
       "                     GRP_LABEL  \n",
       "0                   e-Veterans  \n",
       "1              e-Professionals  \n",
       "2        Youthful Urban Fringe  \n",
       "3              Digital Seniors  \n",
       "4        Youthful Urban Fringe  \n",
       "...                        ...  \n",
       "41724          Digital Seniors  \n",
       "41725  e-Rational Utilitarians  \n",
       "41726  e-Rational Utilitarians  \n",
       "41727  e-Rational Utilitarians  \n",
       "41728               e-Veterans  \n",
       "\n",
       "[41729 rows x 5 columns]"
      ]
     },
     "metadata": {},
     "output_type": "display_data"
    },
    {
     "name": "stdout",
     "output_type": "stream",
     "text": [
      "\n",
      " Index(['LSOA code', 'Local Authority District name', 'IDACI Decile', 'GRP_CD',\n",
      "       'GRP_LABEL'],\n",
      "      dtype='object')\n"
     ]
    }
   ],
   "source": [
    "alldata = idaci.merge(IUC, how = 'outer', on = 'LSOA code')\n",
    "display(alldata) \n",
    "print('\\n', alldata.columns)"
   ]
  },
  {
   "cell_type": "code",
   "execution_count": 9,
   "metadata": {},
   "outputs": [
    {
     "data": {
      "text/html": [
       "<div>\n",
       "<style scoped>\n",
       "    .dataframe tbody tr th:only-of-type {\n",
       "        vertical-align: middle;\n",
       "    }\n",
       "\n",
       "    .dataframe tbody tr th {\n",
       "        vertical-align: top;\n",
       "    }\n",
       "\n",
       "    .dataframe thead th {\n",
       "        text-align: right;\n",
       "    }\n",
       "</style>\n",
       "<table border=\"1\" class=\"dataframe\">\n",
       "  <thead>\n",
       "    <tr style=\"text-align: right;\">\n",
       "      <th></th>\n",
       "      <th>Local Authority District name</th>\n",
       "      <th>IDACI Decile</th>\n",
       "      <th>GRP_CD</th>\n",
       "      <th>GRP_LABEL</th>\n",
       "    </tr>\n",
       "    <tr>\n",
       "      <th>LSOA code</th>\n",
       "      <th></th>\n",
       "      <th></th>\n",
       "      <th></th>\n",
       "      <th></th>\n",
       "    </tr>\n",
       "  </thead>\n",
       "  <tbody>\n",
       "    <tr>\n",
       "      <th>E01000001</th>\n",
       "      <td>City of London</td>\n",
       "      <td>10.0</td>\n",
       "      <td>3</td>\n",
       "      <td>e-Veterans</td>\n",
       "    </tr>\n",
       "    <tr>\n",
       "      <th>E01000002</th>\n",
       "      <td>City of London</td>\n",
       "      <td>10.0</td>\n",
       "      <td>2</td>\n",
       "      <td>e-Professionals</td>\n",
       "    </tr>\n",
       "    <tr>\n",
       "      <th>E01000003</th>\n",
       "      <td>City of London</td>\n",
       "      <td>9.0</td>\n",
       "      <td>4</td>\n",
       "      <td>Youthful Urban Fringe</td>\n",
       "    </tr>\n",
       "    <tr>\n",
       "      <th>E01000005</th>\n",
       "      <td>City of London</td>\n",
       "      <td>3.0</td>\n",
       "      <td>8</td>\n",
       "      <td>Digital Seniors</td>\n",
       "    </tr>\n",
       "    <tr>\n",
       "      <th>E01000006</th>\n",
       "      <td>Barking and Dagenham</td>\n",
       "      <td>5.0</td>\n",
       "      <td>4</td>\n",
       "      <td>Youthful Urban Fringe</td>\n",
       "    </tr>\n",
       "  </tbody>\n",
       "</table>\n",
       "</div>"
      ],
      "text/plain": [
       "          Local Authority District name  IDACI Decile  GRP_CD  \\\n",
       "LSOA code                                                       \n",
       "E01000001                City of London          10.0       3   \n",
       "E01000002                City of London          10.0       2   \n",
       "E01000003                City of London           9.0       4   \n",
       "E01000005                City of London           3.0       8   \n",
       "E01000006          Barking and Dagenham           5.0       4   \n",
       "\n",
       "                       GRP_LABEL  \n",
       "LSOA code                         \n",
       "E01000001             e-Veterans  \n",
       "E01000002        e-Professionals  \n",
       "E01000003  Youthful Urban Fringe  \n",
       "E01000005        Digital Seniors  \n",
       "E01000006  Youthful Urban Fringe  "
      ]
     },
     "execution_count": 9,
     "metadata": {},
     "output_type": "execute_result"
    }
   ],
   "source": [
    "selecteddata = alldata\n",
    "selecteddata.set_index('LSOA code', inplace=True)\n",
    "selecteddata = selecteddata[~selecteddata.index.str.contains(\"W\", \"S\")]\n",
    "selecteddata.head()"
   ]
  },
  {
   "cell_type": "code",
   "execution_count": 10,
   "metadata": {},
   "outputs": [],
   "source": [
    "path = wdir + '\\datasets\\selecteddata.csv'\n",
    "selecteddata.to_csv(path)"
   ]
  },
  {
   "cell_type": "markdown",
   "metadata": {},
   "source": [
    "---"
   ]
  },
  {
   "cell_type": "markdown",
   "metadata": {},
   "source": [
    "### Development Dataset <a name=\"DD\"></a>"
   ]
  },
  {
   "cell_type": "code",
   "execution_count": 11,
   "metadata": {},
   "outputs": [
    {
     "data": {
      "text/html": [
       "<div>\n",
       "<style scoped>\n",
       "    .dataframe tbody tr th:only-of-type {\n",
       "        vertical-align: middle;\n",
       "    }\n",
       "\n",
       "    .dataframe tbody tr th {\n",
       "        vertical-align: top;\n",
       "    }\n",
       "\n",
       "    .dataframe thead th {\n",
       "        text-align: right;\n",
       "    }\n",
       "</style>\n",
       "<table border=\"1\" class=\"dataframe\">\n",
       "  <thead>\n",
       "    <tr style=\"text-align: right;\">\n",
       "      <th></th>\n",
       "      <th>Local Authority District name</th>\n",
       "      <th>IDACI Decile</th>\n",
       "      <th>GRP_CD</th>\n",
       "      <th>GRP_LABEL</th>\n",
       "    </tr>\n",
       "    <tr>\n",
       "      <th>LSOA code</th>\n",
       "      <th></th>\n",
       "      <th></th>\n",
       "      <th></th>\n",
       "      <th></th>\n",
       "    </tr>\n",
       "  </thead>\n",
       "  <tbody>\n",
       "    <tr>\n",
       "      <th>E01014485</th>\n",
       "      <td>Bristol, City of</td>\n",
       "      <td>4.0</td>\n",
       "      <td>2</td>\n",
       "      <td>e-Professionals</td>\n",
       "    </tr>\n",
       "    <tr>\n",
       "      <th>E01014486</th>\n",
       "      <td>Bristol, City of</td>\n",
       "      <td>1.0</td>\n",
       "      <td>4</td>\n",
       "      <td>Youthful Urban Fringe</td>\n",
       "    </tr>\n",
       "    <tr>\n",
       "      <th>E01014487</th>\n",
       "      <td>Bristol, City of</td>\n",
       "      <td>10.0</td>\n",
       "      <td>2</td>\n",
       "      <td>e-Professionals</td>\n",
       "    </tr>\n",
       "    <tr>\n",
       "      <th>E01014488</th>\n",
       "      <td>Bristol, City of</td>\n",
       "      <td>3.0</td>\n",
       "      <td>2</td>\n",
       "      <td>e-Professionals</td>\n",
       "    </tr>\n",
       "    <tr>\n",
       "      <th>E01014489</th>\n",
       "      <td>Bristol, City of</td>\n",
       "      <td>1.0</td>\n",
       "      <td>2</td>\n",
       "      <td>e-Professionals</td>\n",
       "    </tr>\n",
       "    <tr>\n",
       "      <th>...</th>\n",
       "      <td>...</td>\n",
       "      <td>...</td>\n",
       "      <td>...</td>\n",
       "      <td>...</td>\n",
       "    </tr>\n",
       "    <tr>\n",
       "      <th>E01033364</th>\n",
       "      <td>Bristol, City of</td>\n",
       "      <td>5.0</td>\n",
       "      <td>2</td>\n",
       "      <td>e-Professionals</td>\n",
       "    </tr>\n",
       "    <tr>\n",
       "      <th>E01033366</th>\n",
       "      <td>Bristol, City of</td>\n",
       "      <td>1.0</td>\n",
       "      <td>7</td>\n",
       "      <td>Passive and Uncommitted Users</td>\n",
       "    </tr>\n",
       "    <tr>\n",
       "      <th>E01033367</th>\n",
       "      <td>Bristol, City of</td>\n",
       "      <td>1.0</td>\n",
       "      <td>2</td>\n",
       "      <td>e-Professionals</td>\n",
       "    </tr>\n",
       "    <tr>\n",
       "      <th>E01033369</th>\n",
       "      <td>Bristol, City of</td>\n",
       "      <td>1.0</td>\n",
       "      <td>10</td>\n",
       "      <td>e-Withdrawn</td>\n",
       "    </tr>\n",
       "    <tr>\n",
       "      <th>E01033370</th>\n",
       "      <td>Bristol, City of</td>\n",
       "      <td>1.0</td>\n",
       "      <td>7</td>\n",
       "      <td>Passive and Uncommitted Users</td>\n",
       "    </tr>\n",
       "  </tbody>\n",
       "</table>\n",
       "<p>263 rows × 4 columns</p>\n",
       "</div>"
      ],
      "text/plain": [
       "          Local Authority District name  IDACI Decile  GRP_CD  \\\n",
       "LSOA code                                                       \n",
       "E01014485              Bristol, City of           4.0       2   \n",
       "E01014486              Bristol, City of           1.0       4   \n",
       "E01014487              Bristol, City of          10.0       2   \n",
       "E01014488              Bristol, City of           3.0       2   \n",
       "E01014489              Bristol, City of           1.0       2   \n",
       "...                                 ...           ...     ...   \n",
       "E01033364              Bristol, City of           5.0       2   \n",
       "E01033366              Bristol, City of           1.0       7   \n",
       "E01033367              Bristol, City of           1.0       2   \n",
       "E01033369              Bristol, City of           1.0      10   \n",
       "E01033370              Bristol, City of           1.0       7   \n",
       "\n",
       "                               GRP_LABEL  \n",
       "LSOA code                                 \n",
       "E01014485                e-Professionals  \n",
       "E01014486          Youthful Urban Fringe  \n",
       "E01014487                e-Professionals  \n",
       "E01014488                e-Professionals  \n",
       "E01014489                e-Professionals  \n",
       "...                                  ...  \n",
       "E01033364                e-Professionals  \n",
       "E01033366  Passive and Uncommitted Users  \n",
       "E01033367                e-Professionals  \n",
       "E01033369                    e-Withdrawn  \n",
       "E01033370  Passive and Uncommitted Users  \n",
       "\n",
       "[263 rows x 4 columns]"
      ]
     },
     "metadata": {},
     "output_type": "display_data"
    }
   ],
   "source": [
    "devdata = selecteddata[selecteddata['Local Authority District name'] == 'Bristol, City of']\n",
    "display(devdata)\n",
    "path = wdir + '\\datasets\\devdata.csv'\n",
    "devdata.to_csv(path)"
   ]
  },
  {
   "cell_type": "markdown",
   "metadata": {},
   "source": [
    "---"
   ]
  },
  {
   "cell_type": "markdown",
   "metadata": {},
   "source": [
    "### LSOA centroids <a name=\"LSOAs\"></a>"
   ]
  },
  {
   "cell_type": "code",
   "execution_count": 12,
   "metadata": {},
   "outputs": [
    {
     "data": {
      "text/html": [
       "<div>\n",
       "<style scoped>\n",
       "    .dataframe tbody tr th:only-of-type {\n",
       "        vertical-align: middle;\n",
       "    }\n",
       "\n",
       "    .dataframe tbody tr th {\n",
       "        vertical-align: top;\n",
       "    }\n",
       "\n",
       "    .dataframe thead th {\n",
       "        text-align: right;\n",
       "    }\n",
       "</style>\n",
       "<table border=\"1\" class=\"dataframe\">\n",
       "  <thead>\n",
       "    <tr style=\"text-align: right;\">\n",
       "      <th></th>\n",
       "      <th>shapefile</th>\n",
       "    </tr>\n",
       "    <tr>\n",
       "      <th>LSOA</th>\n",
       "      <th></th>\n",
       "    </tr>\n",
       "  </thead>\n",
       "  <tbody>\n",
       "    <tr>\n",
       "      <th>E01000001</th>\n",
       "      <td>{'type': 'Polygon', 'coordinates': [[[-0.09728...</td>\n",
       "    </tr>\n",
       "    <tr>\n",
       "      <th>E01000002</th>\n",
       "      <td>{'type': 'Polygon', 'coordinates': [[[-0.08812...</td>\n",
       "    </tr>\n",
       "    <tr>\n",
       "      <th>E01000003</th>\n",
       "      <td>{'type': 'Polygon', 'coordinates': [[[-0.09678...</td>\n",
       "    </tr>\n",
       "    <tr>\n",
       "      <th>E01000005</th>\n",
       "      <td>{'type': 'Polygon', 'coordinates': [[[-0.07323...</td>\n",
       "    </tr>\n",
       "    <tr>\n",
       "      <th>E01000006</th>\n",
       "      <td>{'type': 'Polygon', 'coordinates': [[[0.091152...</td>\n",
       "    </tr>\n",
       "  </tbody>\n",
       "</table>\n",
       "</div>"
      ],
      "text/plain": [
       "                                                   shapefile\n",
       "LSOA                                                        \n",
       "E01000001  {'type': 'Polygon', 'coordinates': [[[-0.09728...\n",
       "E01000002  {'type': 'Polygon', 'coordinates': [[[-0.08812...\n",
       "E01000003  {'type': 'Polygon', 'coordinates': [[[-0.09678...\n",
       "E01000005  {'type': 'Polygon', 'coordinates': [[[-0.07323...\n",
       "E01000006  {'type': 'Polygon', 'coordinates': [[[0.091152..."
      ]
     },
     "execution_count": 12,
     "metadata": {},
     "output_type": "execute_result"
    }
   ],
   "source": [
    "lsoa_boundaries = wdir + '\\datasets\\LSOA-2011-GeoJSON\\lsoa.geojson'\n",
    "with open(lsoa_boundaries) as lsoa_file:\n",
    "    lsoa_json = json.load(lsoa_file)\n",
    "    \n",
    "json_codes = []\n",
    "json_shapes =[]\n",
    "for i, item in enumerate(lsoa_json['features']):\n",
    "    json_codes.append(lsoa_json['features'][i]['properties']['LSOA11CD'])\n",
    "    json_shapes.append(lsoa_json['features'][i]['geometry'])\n",
    "\n",
    "shapes = pd.DataFrame(json_codes, json_shapes, columns = ['LSOA']).reset_index()\n",
    "shapes.rename(columns = {'index' : 'shapefile'}, inplace = True)\n",
    "shapes.set_index('LSOA', inplace = True)\n",
    "shapes.head()"
   ]
  },
  {
   "cell_type": "markdown",
   "metadata": {},
   "source": [
    "#### Slice out development LSOAs"
   ]
  },
  {
   "cell_type": "code",
   "execution_count": 13,
   "metadata": {},
   "outputs": [
    {
     "data": {
      "text/html": [
       "<div>\n",
       "<style scoped>\n",
       "    .dataframe tbody tr th:only-of-type {\n",
       "        vertical-align: middle;\n",
       "    }\n",
       "\n",
       "    .dataframe tbody tr th {\n",
       "        vertical-align: top;\n",
       "    }\n",
       "\n",
       "    .dataframe thead th {\n",
       "        text-align: right;\n",
       "    }\n",
       "</style>\n",
       "<table border=\"1\" class=\"dataframe\">\n",
       "  <thead>\n",
       "    <tr style=\"text-align: right;\">\n",
       "      <th></th>\n",
       "      <th>shapefile</th>\n",
       "    </tr>\n",
       "    <tr>\n",
       "      <th>LSOA</th>\n",
       "      <th></th>\n",
       "    </tr>\n",
       "  </thead>\n",
       "  <tbody>\n",
       "    <tr>\n",
       "      <th>E01014485</th>\n",
       "      <td>{'type': 'Polygon', 'coordinates': [[[-2.57213...</td>\n",
       "    </tr>\n",
       "    <tr>\n",
       "      <th>E01014486</th>\n",
       "      <td>{'type': 'Polygon', 'coordinates': [[[-2.57379...</td>\n",
       "    </tr>\n",
       "    <tr>\n",
       "      <th>E01014487</th>\n",
       "      <td>{'type': 'Polygon', 'coordinates': [[[-2.58390...</td>\n",
       "    </tr>\n",
       "    <tr>\n",
       "      <th>E01014488</th>\n",
       "      <td>{'type': 'Polygon', 'coordinates': [[[-2.58077...</td>\n",
       "    </tr>\n",
       "    <tr>\n",
       "      <th>E01014489</th>\n",
       "      <td>{'type': 'Polygon', 'coordinates': [[[-2.58581...</td>\n",
       "    </tr>\n",
       "    <tr>\n",
       "      <th>E01014491</th>\n",
       "      <td>{'type': 'Polygon', 'coordinates': [[[-2.57843...</td>\n",
       "    </tr>\n",
       "    <tr>\n",
       "      <th>E01014492</th>\n",
       "      <td>{'type': 'MultiPolygon', 'coordinates': [[[[-2...</td>\n",
       "    </tr>\n",
       "    <tr>\n",
       "      <th>E01014493</th>\n",
       "      <td>{'type': 'Polygon', 'coordinates': [[[-2.68178...</td>\n",
       "    </tr>\n",
       "    <tr>\n",
       "      <th>E01014494</th>\n",
       "      <td>{'type': 'MultiPolygon', 'coordinates': [[[[-2...</td>\n",
       "    </tr>\n",
       "    <tr>\n",
       "      <th>E01014495</th>\n",
       "      <td>{'type': 'MultiPolygon', 'coordinates': [[[[-2...</td>\n",
       "    </tr>\n",
       "  </tbody>\n",
       "</table>\n",
       "</div>"
      ],
      "text/plain": [
       "                                                   shapefile\n",
       "LSOA                                                        \n",
       "E01014485  {'type': 'Polygon', 'coordinates': [[[-2.57213...\n",
       "E01014486  {'type': 'Polygon', 'coordinates': [[[-2.57379...\n",
       "E01014487  {'type': 'Polygon', 'coordinates': [[[-2.58390...\n",
       "E01014488  {'type': 'Polygon', 'coordinates': [[[-2.58077...\n",
       "E01014489  {'type': 'Polygon', 'coordinates': [[[-2.58581...\n",
       "E01014491  {'type': 'Polygon', 'coordinates': [[[-2.57843...\n",
       "E01014492  {'type': 'MultiPolygon', 'coordinates': [[[[-2...\n",
       "E01014493  {'type': 'Polygon', 'coordinates': [[[-2.68178...\n",
       "E01014494  {'type': 'MultiPolygon', 'coordinates': [[[[-2...\n",
       "E01014495  {'type': 'MultiPolygon', 'coordinates': [[[[-2..."
      ]
     },
     "execution_count": 13,
     "metadata": {},
     "output_type": "execute_result"
    }
   ],
   "source": [
    "dev_shapes = shapes[(shapes.index.isin(devdata.index))]\n",
    "dev_shapes.head(10)"
   ]
  },
  {
   "cell_type": "code",
   "execution_count": 14,
   "metadata": {},
   "outputs": [
    {
     "name": "stderr",
     "output_type": "stream",
     "text": [
      "<ipython-input-14-67f8a363ad25>:10: SettingWithCopyWarning: \n",
      "A value is trying to be set on a copy of a slice from a DataFrame.\n",
      "Try using .loc[row_indexer,col_indexer] = value instead\n",
      "\n",
      "See the caveats in the documentation: https://pandas.pydata.org/pandas-docs/stable/user_guide/indexing.html#returning-a-view-versus-a-copy\n",
      "  dev_shapes['coords'] = coords\n"
     ]
    },
    {
     "data": {
      "text/html": [
       "<div>\n",
       "<style scoped>\n",
       "    .dataframe tbody tr th:only-of-type {\n",
       "        vertical-align: middle;\n",
       "    }\n",
       "\n",
       "    .dataframe tbody tr th {\n",
       "        vertical-align: top;\n",
       "    }\n",
       "\n",
       "    .dataframe thead th {\n",
       "        text-align: right;\n",
       "    }\n",
       "</style>\n",
       "<table border=\"1\" class=\"dataframe\">\n",
       "  <thead>\n",
       "    <tr style=\"text-align: right;\">\n",
       "      <th></th>\n",
       "      <th>shapefile</th>\n",
       "      <th>coords</th>\n",
       "    </tr>\n",
       "    <tr>\n",
       "      <th>LSOA</th>\n",
       "      <th></th>\n",
       "      <th></th>\n",
       "    </tr>\n",
       "  </thead>\n",
       "  <tbody>\n",
       "    <tr>\n",
       "      <th>E01014485</th>\n",
       "      <td>{'type': 'Polygon', 'coordinates': [[[-2.57213...</td>\n",
       "      <td>[[-2.572132851149163, 51.47162227883261], [-2....</td>\n",
       "    </tr>\n",
       "    <tr>\n",
       "      <th>E01014486</th>\n",
       "      <td>{'type': 'Polygon', 'coordinates': [[[-2.57379...</td>\n",
       "      <td>[[-2.573796795283666, 51.47009970643395], [-2....</td>\n",
       "    </tr>\n",
       "    <tr>\n",
       "      <th>E01014487</th>\n",
       "      <td>{'type': 'Polygon', 'coordinates': [[[-2.58390...</td>\n",
       "      <td>[[-2.583907388046772, 51.47269438006152], [-2....</td>\n",
       "    </tr>\n",
       "    <tr>\n",
       "      <th>E01014488</th>\n",
       "      <td>{'type': 'Polygon', 'coordinates': [[[-2.58077...</td>\n",
       "      <td>[[-2.58077788508537, 51.471426123592245], [-2....</td>\n",
       "    </tr>\n",
       "    <tr>\n",
       "      <th>E01014489</th>\n",
       "      <td>{'type': 'Polygon', 'coordinates': [[[-2.58581...</td>\n",
       "      <td>[[-2.585811542508555, 51.46770526904023], [-2....</td>\n",
       "    </tr>\n",
       "    <tr>\n",
       "      <th>...</th>\n",
       "      <td>...</td>\n",
       "      <td>...</td>\n",
       "    </tr>\n",
       "    <tr>\n",
       "      <th>E01033364</th>\n",
       "      <td>{'type': 'Polygon', 'coordinates': [[[-2.60432...</td>\n",
       "      <td>[[-2.604320869196286, 51.44057715303813], [-2....</td>\n",
       "    </tr>\n",
       "    <tr>\n",
       "      <th>E01033366</th>\n",
       "      <td>{'type': 'Polygon', 'coordinates': [[[-2.58162...</td>\n",
       "      <td>[[-2.58162457105688, 51.46403519517489], [-2.5...</td>\n",
       "    </tr>\n",
       "    <tr>\n",
       "      <th>E01033367</th>\n",
       "      <td>{'type': 'Polygon', 'coordinates': [[[-2.59004...</td>\n",
       "      <td>[[-2.590042005753497, 51.46256950583962], [-2....</td>\n",
       "    </tr>\n",
       "    <tr>\n",
       "      <th>E01033369</th>\n",
       "      <td>{'type': 'Polygon', 'coordinates': [[[-2.57055...</td>\n",
       "      <td>[[-2.570558822136814, 51.46128541285246], [-2....</td>\n",
       "    </tr>\n",
       "    <tr>\n",
       "      <th>E01033370</th>\n",
       "      <td>{'type': 'Polygon', 'coordinates': [[[-2.58330...</td>\n",
       "      <td>[[-2.58330403095665, 51.448242150350715], [-2....</td>\n",
       "    </tr>\n",
       "  </tbody>\n",
       "</table>\n",
       "<p>263 rows × 2 columns</p>\n",
       "</div>"
      ],
      "text/plain": [
       "                                                   shapefile  \\\n",
       "LSOA                                                           \n",
       "E01014485  {'type': 'Polygon', 'coordinates': [[[-2.57213...   \n",
       "E01014486  {'type': 'Polygon', 'coordinates': [[[-2.57379...   \n",
       "E01014487  {'type': 'Polygon', 'coordinates': [[[-2.58390...   \n",
       "E01014488  {'type': 'Polygon', 'coordinates': [[[-2.58077...   \n",
       "E01014489  {'type': 'Polygon', 'coordinates': [[[-2.58581...   \n",
       "...                                                      ...   \n",
       "E01033364  {'type': 'Polygon', 'coordinates': [[[-2.60432...   \n",
       "E01033366  {'type': 'Polygon', 'coordinates': [[[-2.58162...   \n",
       "E01033367  {'type': 'Polygon', 'coordinates': [[[-2.59004...   \n",
       "E01033369  {'type': 'Polygon', 'coordinates': [[[-2.57055...   \n",
       "E01033370  {'type': 'Polygon', 'coordinates': [[[-2.58330...   \n",
       "\n",
       "                                                      coords  \n",
       "LSOA                                                          \n",
       "E01014485  [[-2.572132851149163, 51.47162227883261], [-2....  \n",
       "E01014486  [[-2.573796795283666, 51.47009970643395], [-2....  \n",
       "E01014487  [[-2.583907388046772, 51.47269438006152], [-2....  \n",
       "E01014488  [[-2.58077788508537, 51.471426123592245], [-2....  \n",
       "E01014489  [[-2.585811542508555, 51.46770526904023], [-2....  \n",
       "...                                                      ...  \n",
       "E01033364  [[-2.604320869196286, 51.44057715303813], [-2....  \n",
       "E01033366  [[-2.58162457105688, 51.46403519517489], [-2.5...  \n",
       "E01033367  [[-2.590042005753497, 51.46256950583962], [-2....  \n",
       "E01033369  [[-2.570558822136814, 51.46128541285246], [-2....  \n",
       "E01033370  [[-2.58330403095665, 51.448242150350715], [-2....  \n",
       "\n",
       "[263 rows x 2 columns]"
      ]
     },
     "metadata": {},
     "output_type": "display_data"
    }
   ],
   "source": [
    "coords = []\n",
    "\n",
    "for i in range(0, len(dev_shapes['shapefile'])):\n",
    "    if dev_shapes['shapefile'][i]['type'] == \"MultiPolygon\":\n",
    "        coords.append(dev_shapes['shapefile'][i]['coordinates'][0][0])\n",
    "    \n",
    "    else:\n",
    "        coords.append(dev_shapes['shapefile'][i]['coordinates'][0])\n",
    "\n",
    "dev_shapes['coords'] = coords\n",
    "display(dev_shapes)"
   ]
  },
  {
   "cell_type": "code",
   "execution_count": 15,
   "metadata": {},
   "outputs": [],
   "source": [
    "def coords_to_dataframe(coords_list, entry):\n",
    "\n",
    "    coords = coords_list[entry]\n",
    "\n",
    "    x_coords = []\n",
    "    y_coords = []\n",
    "\n",
    "    for pair in coords:\n",
    "        x_coords.append(pair[0])\n",
    "        y_coords.append(pair[1])\n",
    "        \n",
    "    df = pd.DataFrame(data = [x_coords, y_coords])\n",
    "    return(df)"
   ]
  },
  {
   "cell_type": "code",
   "execution_count": 16,
   "metadata": {},
   "outputs": [
    {
     "data": {
      "text/html": [
       "<div>\n",
       "<style scoped>\n",
       "    .dataframe tbody tr th:only-of-type {\n",
       "        vertical-align: middle;\n",
       "    }\n",
       "\n",
       "    .dataframe tbody tr th {\n",
       "        vertical-align: top;\n",
       "    }\n",
       "\n",
       "    .dataframe thead th {\n",
       "        text-align: right;\n",
       "    }\n",
       "</style>\n",
       "<table border=\"1\" class=\"dataframe\">\n",
       "  <thead>\n",
       "    <tr style=\"text-align: right;\">\n",
       "      <th></th>\n",
       "      <th>0</th>\n",
       "      <th>1</th>\n",
       "      <th>2</th>\n",
       "      <th>3</th>\n",
       "      <th>4</th>\n",
       "      <th>5</th>\n",
       "      <th>6</th>\n",
       "      <th>7</th>\n",
       "      <th>8</th>\n",
       "      <th>9</th>\n",
       "      <th>...</th>\n",
       "      <th>24</th>\n",
       "      <th>25</th>\n",
       "      <th>26</th>\n",
       "      <th>27</th>\n",
       "      <th>28</th>\n",
       "      <th>29</th>\n",
       "      <th>30</th>\n",
       "      <th>31</th>\n",
       "      <th>32</th>\n",
       "      <th>33</th>\n",
       "    </tr>\n",
       "  </thead>\n",
       "  <tbody>\n",
       "    <tr>\n",
       "      <th>0</th>\n",
       "      <td>-2.572133</td>\n",
       "      <td>-2.570035</td>\n",
       "      <td>-2.567848</td>\n",
       "      <td>-2.570023</td>\n",
       "      <td>-2.573595</td>\n",
       "      <td>-2.573539</td>\n",
       "      <td>-2.574004</td>\n",
       "      <td>-2.574545</td>\n",
       "      <td>-2.57460</td>\n",
       "      <td>-2.573815</td>\n",
       "      <td>...</td>\n",
       "      <td>-2.579539</td>\n",
       "      <td>-2.579124</td>\n",
       "      <td>-2.577882</td>\n",
       "      <td>-2.578218</td>\n",
       "      <td>-2.577647</td>\n",
       "      <td>-2.578011</td>\n",
       "      <td>-2.577137</td>\n",
       "      <td>-2.574552</td>\n",
       "      <td>-2.574707</td>\n",
       "      <td>-2.572133</td>\n",
       "    </tr>\n",
       "    <tr>\n",
       "      <th>1</th>\n",
       "      <td>51.471622</td>\n",
       "      <td>51.470326</td>\n",
       "      <td>51.468913</td>\n",
       "      <td>51.468045</td>\n",
       "      <td>51.466916</td>\n",
       "      <td>51.467368</td>\n",
       "      <td>51.467386</td>\n",
       "      <td>51.468271</td>\n",
       "      <td>51.46877</td>\n",
       "      <td>51.469186</td>\n",
       "      <td>...</td>\n",
       "      <td>51.469765</td>\n",
       "      <td>51.470353</td>\n",
       "      <td>51.470389</td>\n",
       "      <td>51.471134</td>\n",
       "      <td>51.471215</td>\n",
       "      <td>51.472572</td>\n",
       "      <td>51.472857</td>\n",
       "      <td>51.473435</td>\n",
       "      <td>51.473648</td>\n",
       "      <td>51.471622</td>\n",
       "    </tr>\n",
       "  </tbody>\n",
       "</table>\n",
       "<p>2 rows × 34 columns</p>\n",
       "</div>"
      ],
      "text/plain": [
       "          0          1          2          3          4          5   \\\n",
       "0  -2.572133  -2.570035  -2.567848  -2.570023  -2.573595  -2.573539   \n",
       "1  51.471622  51.470326  51.468913  51.468045  51.466916  51.467368   \n",
       "\n",
       "          6          7         8          9   ...         24         25  \\\n",
       "0  -2.574004  -2.574545  -2.57460  -2.573815  ...  -2.579539  -2.579124   \n",
       "1  51.467386  51.468271  51.46877  51.469186  ...  51.469765  51.470353   \n",
       "\n",
       "          26         27         28         29         30         31  \\\n",
       "0  -2.577882  -2.578218  -2.577647  -2.578011  -2.577137  -2.574552   \n",
       "1  51.470389  51.471134  51.471215  51.472572  51.472857  51.473435   \n",
       "\n",
       "          32         33  \n",
       "0  -2.574707  -2.572133  \n",
       "1  51.473648  51.471622  \n",
       "\n",
       "[2 rows x 34 columns]"
      ]
     },
     "metadata": {},
     "output_type": "display_data"
    }
   ],
   "source": [
    "df = coords_to_dataframe(dev_shapes['coords'], 0)\n",
    "display(df)"
   ]
  },
  {
   "cell_type": "markdown",
   "metadata": {},
   "source": [
    "####  Example"
   ]
  },
  {
   "cell_type": "code",
   "execution_count": 17,
   "metadata": {},
   "outputs": [],
   "source": [
    "from sklearn.cluster import KMeans\n",
    "import matplotlib.pyplot as plt\n",
    "%matplotlib inline\n",
    "plt.style.use('seaborn-white')\n",
    "colour = 'royalblue'"
   ]
  },
  {
   "cell_type": "code",
   "execution_count": 18,
   "metadata": {},
   "outputs": [
    {
     "data": {
      "text/plain": [
       "(None, None)"
      ]
     },
     "execution_count": 18,
     "metadata": {},
     "output_type": "execute_result"
    },
    {
     "data": {
      "image/png": "[encoded data removed]",
      "text/plain": [
       "<Figure size 432x288 with 1 Axes>"
      ]
     },
     "metadata": {},
     "output_type": "display_data"
    }
   ],
   "source": [
    "x=df.loc[0,:]\n",
    "y=df.loc[1,:]\n",
    "\n",
    "fig, ax = plt.subplots()\n",
    "ax.scatter(x, y, label='vertices', alpha = 0.8, c=colour)\n",
    "ax.plot(x, y, label='polygon', alpha = 0.5, c=colour)\n",
    "ax.legend(bbox_to_anchor=(1, 1))\n",
    "ax.grid(), ax.set_aspect('equal')"
   ]
  },
  {
   "cell_type": "markdown",
   "metadata": {},
   "source": [
    "Method 1: Centroid of a polygon [(source)](https://en.wikipedia.org/wiki/Centroid#:~:text=%5B18%5D-,Of%20a%20polygon,-%5Bedit%5D)"
   ]
  },
  {
   "cell_type": "code",
   "execution_count": 19,
   "metadata": {},
   "outputs": [],
   "source": [
    "def poly_centroid(coords_list, entry):\n",
    "    A, Cx, Cy = 0, 0, 0\n",
    "    for i in range(0, len(coords_list[entry])-1):\n",
    "        A += (x[i]*y[i+1] - x[i+1]*y[i])\n",
    "        Cx += (x[i] + x[i+1])*(x[i]*y[i+1] - x[i+1]*y[i])\n",
    "        Cy += (y[i] + y[i+1])*(x[i]*y[i+1] - x[i+1]*y[i])\n",
    "\n",
    "    A = A/2\n",
    "    Cx = Cx/(6*A)\n",
    "    Cy = Cy/(6*A)\n",
    "    \n",
    "    return Cx, Cy"
   ]
  },
  {
   "cell_type": "code",
   "execution_count": 20,
   "metadata": {},
   "outputs": [],
   "source": [
    "m1Cx, m1Cy = poly_centroid(dev_shapes['coords'], 0)"
   ]
  },
  {
   "cell_type": "markdown",
   "metadata": {},
   "source": [
    "Method 2: K-Means clustering using sci-kit learn"
   ]
  },
  {
   "cell_type": "code",
   "execution_count": 21,
   "metadata": {},
   "outputs": [
    {
     "name": "stderr",
     "output_type": "stream",
     "text": [
      "C:\\ProgramData\\Anaconda3\\lib\\site-packages\\sklearn\\cluster\\_kmeans.py:881: UserWarning: KMeans is known to have a memory leak on Windows with MKL, when there are less chunks than available threads. You can avoid it by setting the environment variable OMP_NUM_THREADS=1.\n",
      "  warnings.warn(\n"
     ]
    }
   ],
   "source": [
    "kmeans = KMeans(n_clusters=1, random_state=0).fit(dev_shapes['coords'][0])\n",
    "m2Cx, m2Cy = kmeans.cluster_centers_[0][0], kmeans.cluster_centers_[0][1]"
   ]
  },
  {
   "cell_type": "markdown",
   "metadata": {},
   "source": [
    "Compare methods and plot each on single polygon"
   ]
  },
  {
   "cell_type": "code",
   "execution_count": 22,
   "metadata": {},
   "outputs": [
    {
     "name": "stdout",
     "output_type": "stream",
     "text": [
      "-2.5740352970769576 51.47018970697111 -2.5754039500073325 51.46992482320055\n"
     ]
    }
   ],
   "source": [
    "print(m1Cx, m1Cy, m2Cx, m2Cy)"
   ]
  },
  {
   "cell_type": "code",
   "execution_count": 23,
   "metadata": {},
   "outputs": [
    {
     "data": {
      "text/plain": [
       "(None, None)"
      ]
     },
     "execution_count": 23,
     "metadata": {},
     "output_type": "execute_result"
    },
    {
     "data": {
      "image/png": "[encoded data removed]",
      "text/plain": [
       "<Figure size 432x288 with 1 Axes>"
      ]
     },
     "metadata": {},
     "output_type": "display_data"
    }
   ],
   "source": [
    "fig, ax = plt.subplots()\n",
    "ax.scatter(x, y, label='vertices', alpha = 0.8, c=colour)\n",
    "ax.plot(x, y, label='polygon', alpha = 0.5, c=colour)\n",
    "ax.scatter(m1Cx, m1Cy, label='Method 1 (wiki)', c='orange', marker='x')\n",
    "ax.scatter(m2Cx, m2Cy, label='Method 2 (kmeans)', c='green', marker='x')\n",
    "ax.legend(bbox_to_anchor=(1, 1))\n",
    "ax.grid(), ax.set_aspect('equal')"
   ]
  },
  {
   "cell_type": "markdown",
   "metadata": {},
   "source": [
    "#### Grid of Sub-Plots"
   ]
  },
  {
   "cell_type": "code",
   "execution_count": 24,
   "metadata": {},
   "outputs": [
    {
     "data": {
      "text/plain": [
       "(None, None)"
      ]
     },
     "execution_count": 24,
     "metadata": {},
     "output_type": "execute_result"
    },
    {
     "data": {
      "image/png": "[encoded data removed]",
      "text/plain": [
       "<Figure size 1440x720 with 20 Axes>"
      ]
     },
     "metadata": {},
     "output_type": "display_data"
    }
   ],
   "source": [
    "import warnings\n",
    "warnings.filterwarnings('ignore')\n",
    "fig, axs = plt.subplots(4, 5, figsize=(20,10))\n",
    "\n",
    "\n",
    "for i in range(0, 20):\n",
    "    x = coords_to_dataframe(dev_shapes['coords'], i).loc[0,:]\n",
    "    y = coords_to_dataframe(dev_shapes['coords'], i).loc[1,:]\n",
    "    m1Cx, m1Cy = poly_centroid(dev_shapes['coords'], i)\n",
    "    kmeans = KMeans(n_clusters=1, random_state=0).fit(dev_shapes['coords'][i])\n",
    "    m2Cx, m2Cy = kmeans.cluster_centers_[0][0], kmeans.cluster_centers_[0][1]\n",
    "    \n",
    "    a = i//5\n",
    "    b = i%5\n",
    "    \n",
    "    \n",
    "    axs[a,b].scatter(x, y, label='vertices', alpha = 0.8, c=colour)\n",
    "    axs[a,b].plot(x, y, label='polygon', alpha = 0.5, c=colour)\n",
    "    axs[a,b].scatter(m1Cx, m1Cy, label='Method 1 (wiki)', c='orange', marker='x')\n",
    "    axs[a,b].scatter(m2Cx, m2Cy, label='Method 2 (kmeans)', c='green', marker='x')\n",
    "    axs[a,b].set_title(dev_shapes.index[i])\n",
    "    axs[a,b].axis('off')\n",
    "    \n",
    "\n",
    "ax.legend(bbox_to_anchor=(1, 1))\n",
    "ax.grid(), ax.set_aspect('equal')"
   ]
  },
  {
   "cell_type": "code",
   "execution_count": 25,
   "metadata": {},
   "outputs": [
    {
     "data": {
      "image/png": "[encoded data removed]",
      "text/plain": [
       "<Figure size 432x288 with 1 Axes>"
      ]
     },
     "metadata": {},
     "output_type": "display_data"
    }
   ],
   "source": [
    "mp = dev_shapes.shapefile[6]['coordinates'] #try this with 6, 8, 9, and 13\n",
    "for i in range(0, len(mp)):\n",
    "    df = coords_to_dataframe(mp[i], 0)\n",
    "    x = df.loc[0,:]\n",
    "    y = df.loc[1,:]\n",
    "    plt.scatter(x, y)\n",
    "    plt.plot(x, y)\n",
    "    \n",
    "plt.show()"
   ]
  },
  {
   "cell_type": "markdown",
   "metadata": {},
   "source": [
    "This is showing that for the entries labelled as 'MultiPolygon' in the GeoJson, only one of the polygons in the entry is being input to the centroid calculator function. Upon consultation with the Choropleth map of the area (note: once I've isolated Bristol polygons from the geojson, plot the choropleth using plotly), it's clear that these LSOAs form the border on the river Avon. A good heuristic approach to extract the most relevant polygons for this dataset and for the set representing the whole UK - would be to use the polygon with the most vertices. "
   ]
  },
  {
   "cell_type": "markdown",
   "metadata": {},
   "source": [
    "#### Apply to entire development data set"
   ]
  },
  {
   "cell_type": "code",
   "execution_count": 26,
   "metadata": {},
   "outputs": [
    {
     "data": {
      "text/html": [
       "<div>\n",
       "<style scoped>\n",
       "    .dataframe tbody tr th:only-of-type {\n",
       "        vertical-align: middle;\n",
       "    }\n",
       "\n",
       "    .dataframe tbody tr th {\n",
       "        vertical-align: top;\n",
       "    }\n",
       "\n",
       "    .dataframe thead th {\n",
       "        text-align: right;\n",
       "    }\n",
       "</style>\n",
       "<table border=\"1\" class=\"dataframe\">\n",
       "  <thead>\n",
       "    <tr style=\"text-align: right;\">\n",
       "      <th></th>\n",
       "      <th>Cx</th>\n",
       "      <th>Cy</th>\n",
       "    </tr>\n",
       "    <tr>\n",
       "      <th>LSOA</th>\n",
       "      <th></th>\n",
       "      <th></th>\n",
       "    </tr>\n",
       "  </thead>\n",
       "  <tbody>\n",
       "    <tr>\n",
       "      <th>E01014485</th>\n",
       "      <td>-2.574035</td>\n",
       "      <td>51.470190</td>\n",
       "    </tr>\n",
       "    <tr>\n",
       "      <th>E01014486</th>\n",
       "      <td>-2.578357</td>\n",
       "      <td>51.465865</td>\n",
       "    </tr>\n",
       "    <tr>\n",
       "      <th>E01014487</th>\n",
       "      <td>-2.588306</td>\n",
       "      <td>51.469726</td>\n",
       "    </tr>\n",
       "    <tr>\n",
       "      <th>E01014488</th>\n",
       "      <td>-2.582122</td>\n",
       "      <td>51.468620</td>\n",
       "    </tr>\n",
       "    <tr>\n",
       "      <th>E01014489</th>\n",
       "      <td>-2.587261</td>\n",
       "      <td>51.466037</td>\n",
       "    </tr>\n",
       "    <tr>\n",
       "      <th>...</th>\n",
       "      <td>...</td>\n",
       "      <td>...</td>\n",
       "    </tr>\n",
       "    <tr>\n",
       "      <th>E01033364</th>\n",
       "      <td>-2.604925</td>\n",
       "      <td>51.437881</td>\n",
       "    </tr>\n",
       "    <tr>\n",
       "      <th>E01033366</th>\n",
       "      <td>-2.583574</td>\n",
       "      <td>51.464182</td>\n",
       "    </tr>\n",
       "    <tr>\n",
       "      <th>E01033367</th>\n",
       "      <td>-2.591468</td>\n",
       "      <td>51.463664</td>\n",
       "    </tr>\n",
       "    <tr>\n",
       "      <th>E01033369</th>\n",
       "      <td>-2.570394</td>\n",
       "      <td>51.455876</td>\n",
       "    </tr>\n",
       "    <tr>\n",
       "      <th>E01033370</th>\n",
       "      <td>-2.587414</td>\n",
       "      <td>51.446958</td>\n",
       "    </tr>\n",
       "  </tbody>\n",
       "</table>\n",
       "<p>263 rows × 2 columns</p>\n",
       "</div>"
      ],
      "text/plain": [
       "                 Cx         Cy\n",
       "LSOA                          \n",
       "E01014485 -2.574035  51.470190\n",
       "E01014486 -2.578357  51.465865\n",
       "E01014487 -2.588306  51.469726\n",
       "E01014488 -2.582122  51.468620\n",
       "E01014489 -2.587261  51.466037\n",
       "...             ...        ...\n",
       "E01033364 -2.604925  51.437881\n",
       "E01033366 -2.583574  51.464182\n",
       "E01033367 -2.591468  51.463664\n",
       "E01033369 -2.570394  51.455876\n",
       "E01033370 -2.587414  51.446958\n",
       "\n",
       "[263 rows x 2 columns]"
      ]
     },
     "metadata": {},
     "output_type": "display_data"
    }
   ],
   "source": [
    "Cx = []\n",
    "Cy = []\n",
    "for i in range(0, len(dev_shapes['coords'])):\n",
    "    x = coords_to_dataframe(dev_shapes['coords'], i).loc[0,:]\n",
    "    y = coords_to_dataframe(dev_shapes['coords'], i).loc[1,:]\n",
    "    m1Cx, m1Cy = poly_centroid(dev_shapes['coords'], i)\n",
    "    Cx.append(m1Cx)\n",
    "    Cy.append(m1Cy)\n",
    "    \n",
    "dev_shapes['Cx'] = Cx\n",
    "dev_shapes['Cy'] = Cy\n",
    "\n",
    "dev_shapes.drop(columns = ['shapefile', 'coords'], axis=1, inplace=True)\n",
    "display(dev_shapes)"
   ]
  },
  {
   "cell_type": "markdown",
   "metadata": {},
   "source": [
    "---"
   ]
  },
  {
   "cell_type": "markdown",
   "metadata": {},
   "source": [
    "### Cities/Towns <a name=\"C/T\"></a>"
   ]
  },
  {
   "cell_type": "markdown",
   "metadata": {},
   "source": [
    "Note: Might be best to use city/town coordinates and use some geometry to figure out the nearest LSOA - then zoom to that one"
   ]
  },
  {
   "cell_type": "markdown",
   "metadata": {},
   "source": [
    "---"
   ]
  },
  {
   "cell_type": "markdown",
   "metadata": {},
   "source": [
    "### Postcodes <a name=\"PCs\"></a>"
   ]
  },
  {
   "cell_type": "markdown",
   "metadata": {},
   "source": [
    "---"
   ]
  },
  {
   "cell_type": "markdown",
   "metadata": {},
   "source": [
    "Note: to improve performance, it may only be necessary to create maps for major cities and towns: create a function(s) to extract data from the dataframe and geojson at specified levels of detail."
   ]
  }
 ],
 "metadata": {
  "kernelspec": {
   "display_name": "Python 3",
   "language": "python",
   "name": "python3"
  },
  "language_info": {
   "codemirror_mode": {
    "name": "ipython",
    "version": 3
   },
   "file_extension": ".py",
   "mimetype": "text/x-python",
   "name": "python",
   "nbconvert_exporter": "python",
   "pygments_lexer": "ipython3",
   "version": "3.8.6"
  }
 },
 "nbformat": 4,
 "nbformat_minor": 4
}
